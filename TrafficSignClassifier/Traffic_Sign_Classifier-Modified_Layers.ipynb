{
 "cells": [
  {
   "cell_type": "markdown",
   "metadata": {},
   "source": [
    "# Self-Driving Car Engineer Nanodegree\n",
    "\n",
    "## Deep Learning\n",
    "\n",
    "## Project: Build a Traffic Sign Recognition Classifier\n",
    "\n",
    "In this notebook, a template is provided for you to implement your functionality in stages, which is required to successfully complete this project. If additional code is required that cannot be included in the notebook, be sure that the Python code is successfully imported and included in your submission if necessary. \n",
    "\n",
    "> **Note**: Once you have completed all of the code implementations, you need to finalize your work by exporting the iPython Notebook as an HTML document. Before exporting the notebook to html, all of the code cells need to have been run so that reviewers can see the final implementation and output. You can then export the notebook by using the menu above and navigating to  \\n\",\n",
    "    \"**File -> Download as -> HTML (.html)**. Include the finished document along with this notebook as your submission. \n",
    "\n",
    "In addition to implementing code, there is a writeup to complete. The writeup should be completed in a separate file, which can be either a markdown file or a pdf document. There is a [write up template](https://github.com/udacity/CarND-Traffic-Sign-Classifier-Project/blob/master/writeup_template.md) that can be used to guide the writing process. Completing the code template and writeup template will cover all of the [rubric points](https://review.udacity.com/#!/rubrics/481/view) for this project.\n",
    "\n",
    "The [rubric](https://review.udacity.com/#!/rubrics/481/view) contains \"Stand Out Suggestions\" for enhancing the project beyond the minimum requirements. The stand out suggestions are optional. If you decide to pursue the \"stand out suggestions\", you can include the code in this Ipython notebook and also discuss the results in the writeup file.\n",
    "\n",
    "\n",
    ">**Note:** Code and Markdown cells can be executed using the **Shift + Enter** keyboard shortcut. In addition, Markdown cells can be edited by typically double-clicking the cell to enter edit mode."
   ]
  },
  {
   "cell_type": "markdown",
   "metadata": {},
   "source": [
    "---\n",
    "## Step 0: Load The Data"
   ]
  },
  {
   "cell_type": "code",
   "execution_count": 1,
   "metadata": {},
   "outputs": [],
   "source": [
    "# Load pickled data\n",
    "import pickle\n",
    "import numpy as np\n",
    "\n",
    "\n",
    "import matplotlib.pyplot as plt\n",
    "import random\n",
    "\n",
    "# Visualizations will be shown in the notebook.\n",
    "%matplotlib inline\n",
    "\n",
    "from sklearn.utils import shuffle\n",
    "\n",
    "from tensorflow.contrib.layers import flatten\n",
    "import tensorflow as tf\n",
    "\n",
    "import pandas as pd"
   ]
  },
  {
   "cell_type": "code",
   "execution_count": 2,
   "metadata": {},
   "outputs": [],
   "source": [
    "# TODO: Fill this in based on where you saved the training and testing data\n",
    "\n",
    "training_file = '../traffic-signs-data/train.p'\n",
    "validation_file = '../traffic-signs-data/valid.p'\n",
    "testing_file = '../traffic-signs-data/test.p'\n",
    "\n",
    "with open(training_file, mode='rb') as f:\n",
    "    train = pickle.load(f)\n",
    "with open(validation_file, mode='rb') as f:\n",
    "    valid = pickle.load(f)\n",
    "with open(testing_file, mode='rb') as f:\n",
    "    test = pickle.load(f)\n",
    "    \n",
    "X_train, y_train = train['features'], train['labels']\n",
    "X_valid, y_valid = valid['features'], valid['labels']\n",
    "X_test, y_test = test['features'], test['labels']\n",
    "\n"
   ]
  },
  {
   "cell_type": "markdown",
   "metadata": {},
   "source": [
    "---\n",
    "\n",
    "## Step 1: Dataset Summary & Exploration\n",
    "\n",
    "The pickled data is a dictionary with 4 key/value pairs:\n",
    "\n",
    "- `'features'` is a 4D array containing raw pixel data of the traffic sign images, (num examples, width, height, channels).\n",
    "- `'labels'` is a 1D array containing the label/class id of the traffic sign. The file `signnames.csv` contains id -> name mappings for each id.\n",
    "- `'sizes'` is a list containing tuples, (width, height) representing the original width and height the image.\n",
    "- `'coords'` is a list containing tuples, (x1, y1, x2, y2) representing coordinates of a bounding box around the sign in the image. **THESE COORDINATES ASSUME THE ORIGINAL IMAGE. THE PICKLED DATA CONTAINS RESIZED VERSIONS (32 by 32) OF THESE IMAGES**\n",
    "\n",
    "Complete the basic data summary below. Use python, numpy and/or pandas methods to calculate the data summary rather than hard coding the results. For example, the [pandas shape method](http://pandas.pydata.org/pandas-docs/stable/generated/pandas.DataFrame.shape.html) might be useful for calculating some of the summary results. "
   ]
  },
  {
   "cell_type": "markdown",
   "metadata": {},
   "source": [
    "### Provide a Basic Summary of the Data Set Using Python, Numpy and/or Pandas"
   ]
  },
  {
   "cell_type": "code",
   "execution_count": 3,
   "metadata": {},
   "outputs": [
    {
     "name": "stdout",
     "output_type": "stream",
     "text": [
      "\n",
      "Training Set:   34799 samples\n",
      "Validation Set: 4410 samples\n",
      "Test Set:       12630 samples\n"
     ]
    }
   ],
   "source": [
    "print()\n",
    "print(\"Training Set:   {} samples\".format(len(X_train)))\n",
    "print(\"Validation Set: {} samples\".format(len(X_valid)))\n",
    "print(\"Test Set:       {} samples\".format(len(X_test)))"
   ]
  },
  {
   "cell_type": "code",
   "execution_count": 4,
   "metadata": {},
   "outputs": [
    {
     "name": "stdout",
     "output_type": "stream",
     "text": [
      "X_train Shape: (34799, 32, 32, 3)\n",
      "y_train Shape: (34799,)\n",
      "\n",
      "Image Shape: (32, 32, 3)\n",
      "\n"
     ]
    }
   ],
   "source": [
    "print(\"X_train Shape: {}\".format(X_train.shape))\n",
    "print(\"y_train Shape: {}\".format(y_train.shape))\n",
    "print()\n",
    "print(\"Image Shape: {}\".format(X_train[0].shape))\n",
    "print()"
   ]
  },
  {
   "cell_type": "code",
   "execution_count": 5,
   "metadata": {},
   "outputs": [
    {
     "name": "stdout",
     "output_type": "stream",
     "text": [
      "Number of training examples = 34799\n",
      "Number of testing examples = 12630\n",
      "Image data shape = (32, 32, 3)\n",
      "Number of classes = 43\n"
     ]
    }
   ],
   "source": [
    "\n",
    "# TODO: Number of training examples\n",
    "n_train = len(X_train)\n",
    "\n",
    "# TODO: Number of validation examples\n",
    "n_validation = len(X_valid)\n",
    "\n",
    "# TODO: Number of testing examples.\n",
    "n_test = len(X_test)\n",
    "\n",
    "# TODO: What's the shape of an traffic sign image?\n",
    "image_shape = X_train[0].shape\n",
    "\n",
    "# TODO: How many unique classes/labels there are in the dataset.\n",
    "n_classes = len(np.unique(np.concatenate((y_train,y_valid,y_test), axis=0)))\n",
    "\n",
    "print(\"Number of training examples =\", n_train)\n",
    "print(\"Number of testing examples =\", n_test)\n",
    "print(\"Image data shape =\", image_shape)\n",
    "print(\"Number of classes =\", n_classes)"
   ]
  },
  {
   "cell_type": "markdown",
   "metadata": {},
   "source": [
    "### Include an exploratory visualization of the dataset"
   ]
  },
  {
   "cell_type": "markdown",
   "metadata": {},
   "source": [
    "Visualize the German Traffic Signs Dataset using the pickled file(s). This is open ended, suggestions include: plotting traffic sign images, plotting the count of each sign, etc. \n",
    "\n",
    "The [Matplotlib](http://matplotlib.org/) [examples](http://matplotlib.org/examples/index.html) and [gallery](http://matplotlib.org/gallery.html) pages are a great resource for doing visualizations in Python.\n",
    "\n",
    "**NOTE:** It's recommended you start with something simple first. If you wish to do more, come back to it after you've completed the rest of the sections. It can be interesting to look at the distribution of classes in the training, validation and test set. Is the distribution the same? Are there more examples of some classes than others?"
   ]
  },
  {
   "cell_type": "code",
   "execution_count": 6,
   "metadata": {},
   "outputs": [
    {
     "name": "stdout",
     "output_type": "stream",
     "text": [
      "2\n"
     ]
    },
    {
     "data": {
      "image/png": "[encoded data removed]",
      "text/plain": [
       "<matplotlib.figure.Figure at 0x123712a20>"
      ]
     },
     "metadata": {},
     "output_type": "display_data"
    }
   ],
   "source": [
    "index = 32273 # random.randint(0, len(X_train))\n",
    "image = X_train[index].squeeze()\n",
    "\n",
    "plt.figure(figsize=(1,1))\n",
    "plt.imshow(image)\n",
    "print(y_train[index])"
   ]
  },
  {
   "cell_type": "code",
   "execution_count": 7,
   "metadata": {},
   "outputs": [
    {
     "name": "stdout",
     "output_type": "stream",
     "text": [
      "32273\n"
     ]
    }
   ],
   "source": [
    "print(index)\n"
   ]
  },
  {
   "cell_type": "code",
   "execution_count": 25,
   "metadata": {},
   "outputs": [
    {
     "data": {
      "image/png": "[encoded data removed]",
      "text/plain": [
       "<matplotlib.figure.Figure at 0x130bc6d30>"
      ]
     },
     "metadata": {},
     "output_type": "display_data"
    }
   ],
   "source": [
    "# show image of 10 random data points\n",
    "fig, axs = plt.subplots(2,5, figsize=(15, 6))\n",
    "fig.subplots_adjust(hspace = .2, wspace=.001)\n",
    "axs = axs.ravel()\n",
    "for i in range(10):\n",
    "    index = random.randint(0, len(X_train))\n",
    "    image = X_train[index]\n",
    "    axs[i].axis('off')\n",
    "    axs[i].imshow(image)\n",
    "    axs[i].set_title(y_train[index])"
   ]
  },
  {
   "cell_type": "code",
   "execution_count": 23,
   "metadata": {},
   "outputs": [
    {
     "data": {
      "image/png": "[encoded data removed]",
      "text/plain": [
       "<matplotlib.figure.Figure at 0x123e48470>"
      ]
     },
     "metadata": {},
     "output_type": "display_data"
    }
   ],
   "source": [
    "fig, ax = plt.subplots()\n",
    "ind = np.arange(n_classes)\n",
    "\n",
    "n, bins, patches = ax.hist(y_train, n_classes)\n",
    "ax.set_xlabel('classes')\n",
    "ax.set_ylabel('counts')\n",
    "ax.set_title(r'Histogram of traffic sign images')\n",
    "#p1 = ax.bar(ind,0,width,color='r',bottom=0,yerr=0)\n",
    "plt.show()"
   ]
  },
  {
   "cell_type": "code",
   "execution_count": 8,
   "metadata": {},
   "outputs": [],
   "source": [
    "#See counts for different class names\n",
    "data_i = [[i,sum(y_train == i)] for i in range(len(np.unique(y_train)))]\n",
    "data_i_sorted = sorted(data_i, key=lambda x: x[1])\n",
    "data_pd = pd.read_csv('signnames.csv')\n",
    "data_pd['#Counts'] = pd.Series(np.asarray(data_i_sorted).T[1], index=np.asarray(data_i_sorted).T[0])\n",
    "data_pd_sorted = data_pd.sort_values(['#Counts'],ascending=[0]).reset_index()\n",
    "data_pd_sorted = data_pd_sorted.drop('index', 1)"
   ]
  },
  {
   "cell_type": "code",
   "execution_count": 129,
   "metadata": {},
   "outputs": [
    {
     "data": {
      "text/plain": [
       "'Speed limit (20km/h)'"
      ]
     },
     "execution_count": 129,
     "metadata": {},
     "output_type": "execute_result"
    }
   ],
   "source": [
    "data_pd.loc[0]['SignName']"
   ]
  },
  {
   "cell_type": "code",
   "execution_count": 24,
   "metadata": {},
   "outputs": [
    {
     "data": {
      "text/html": [
       "<div>\n",
       "<style>\n",
       "    .dataframe thead tr:only-child th {\n",
       "        text-align: right;\n",
       "    }\n",
       "\n",
       "    .dataframe thead th {\n",
       "        text-align: left;\n",
       "    }\n",
       "\n",
       "    .dataframe tbody tr th {\n",
       "        vertical-align: top;\n",
       "    }\n",
       "</style>\n",
       "<table border=\"1\" class=\"dataframe\">\n",
       "  <thead>\n",
       "    <tr style=\"text-align: right;\">\n",
       "      <th></th>\n",
       "      <th>ClassId</th>\n",
       "      <th>SignName</th>\n",
       "      <th>#Counts</th>\n",
       "    </tr>\n",
       "  </thead>\n",
       "  <tbody>\n",
       "    <tr>\n",
       "      <th>0</th>\n",
       "      <td>2</td>\n",
       "      <td>Speed limit (50km/h)</td>\n",
       "      <td>2010</td>\n",
       "    </tr>\n",
       "    <tr>\n",
       "      <th>1</th>\n",
       "      <td>1</td>\n",
       "      <td>Speed limit (30km/h)</td>\n",
       "      <td>1980</td>\n",
       "    </tr>\n",
       "    <tr>\n",
       "      <th>2</th>\n",
       "      <td>13</td>\n",
       "      <td>Yield</td>\n",
       "      <td>1920</td>\n",
       "    </tr>\n",
       "    <tr>\n",
       "      <th>3</th>\n",
       "      <td>12</td>\n",
       "      <td>Priority road</td>\n",
       "      <td>1890</td>\n",
       "    </tr>\n",
       "    <tr>\n",
       "      <th>4</th>\n",
       "      <td>38</td>\n",
       "      <td>Keep right</td>\n",
       "      <td>1860</td>\n",
       "    </tr>\n",
       "    <tr>\n",
       "      <th>5</th>\n",
       "      <td>10</td>\n",
       "      <td>No passing for vehicles over 3.5 metric tons</td>\n",
       "      <td>1800</td>\n",
       "    </tr>\n",
       "    <tr>\n",
       "      <th>6</th>\n",
       "      <td>4</td>\n",
       "      <td>Speed limit (70km/h)</td>\n",
       "      <td>1770</td>\n",
       "    </tr>\n",
       "    <tr>\n",
       "      <th>7</th>\n",
       "      <td>5</td>\n",
       "      <td>Speed limit (80km/h)</td>\n",
       "      <td>1650</td>\n",
       "    </tr>\n",
       "    <tr>\n",
       "      <th>8</th>\n",
       "      <td>25</td>\n",
       "      <td>Road work</td>\n",
       "      <td>1350</td>\n",
       "    </tr>\n",
       "    <tr>\n",
       "      <th>9</th>\n",
       "      <td>9</td>\n",
       "      <td>No passing</td>\n",
       "      <td>1320</td>\n",
       "    </tr>\n",
       "    <tr>\n",
       "      <th>10</th>\n",
       "      <td>7</td>\n",
       "      <td>Speed limit (100km/h)</td>\n",
       "      <td>1290</td>\n",
       "    </tr>\n",
       "    <tr>\n",
       "      <th>11</th>\n",
       "      <td>3</td>\n",
       "      <td>Speed limit (60km/h)</td>\n",
       "      <td>1260</td>\n",
       "    </tr>\n",
       "    <tr>\n",
       "      <th>12</th>\n",
       "      <td>8</td>\n",
       "      <td>Speed limit (120km/h)</td>\n",
       "      <td>1260</td>\n",
       "    </tr>\n",
       "    <tr>\n",
       "      <th>13</th>\n",
       "      <td>11</td>\n",
       "      <td>Right-of-way at the next intersection</td>\n",
       "      <td>1170</td>\n",
       "    </tr>\n",
       "    <tr>\n",
       "      <th>14</th>\n",
       "      <td>35</td>\n",
       "      <td>Ahead only</td>\n",
       "      <td>1080</td>\n",
       "    </tr>\n",
       "    <tr>\n",
       "      <th>15</th>\n",
       "      <td>18</td>\n",
       "      <td>General caution</td>\n",
       "      <td>1080</td>\n",
       "    </tr>\n",
       "    <tr>\n",
       "      <th>16</th>\n",
       "      <td>17</td>\n",
       "      <td>No entry</td>\n",
       "      <td>990</td>\n",
       "    </tr>\n",
       "    <tr>\n",
       "      <th>17</th>\n",
       "      <td>31</td>\n",
       "      <td>Wild animals crossing</td>\n",
       "      <td>690</td>\n",
       "    </tr>\n",
       "    <tr>\n",
       "      <th>18</th>\n",
       "      <td>14</td>\n",
       "      <td>Stop</td>\n",
       "      <td>690</td>\n",
       "    </tr>\n",
       "    <tr>\n",
       "      <th>19</th>\n",
       "      <td>33</td>\n",
       "      <td>Turn right ahead</td>\n",
       "      <td>599</td>\n",
       "    </tr>\n",
       "    <tr>\n",
       "      <th>20</th>\n",
       "      <td>15</td>\n",
       "      <td>No vehicles</td>\n",
       "      <td>540</td>\n",
       "    </tr>\n",
       "    <tr>\n",
       "      <th>21</th>\n",
       "      <td>26</td>\n",
       "      <td>Traffic signals</td>\n",
       "      <td>540</td>\n",
       "    </tr>\n",
       "    <tr>\n",
       "      <th>22</th>\n",
       "      <td>28</td>\n",
       "      <td>Children crossing</td>\n",
       "      <td>480</td>\n",
       "    </tr>\n",
       "    <tr>\n",
       "      <th>23</th>\n",
       "      <td>23</td>\n",
       "      <td>Slippery road</td>\n",
       "      <td>450</td>\n",
       "    </tr>\n",
       "    <tr>\n",
       "      <th>24</th>\n",
       "      <td>30</td>\n",
       "      <td>Beware of ice/snow</td>\n",
       "      <td>390</td>\n",
       "    </tr>\n",
       "    <tr>\n",
       "      <th>25</th>\n",
       "      <td>16</td>\n",
       "      <td>Vehicles over 3.5 metric tons prohibited</td>\n",
       "      <td>360</td>\n",
       "    </tr>\n",
       "    <tr>\n",
       "      <th>26</th>\n",
       "      <td>34</td>\n",
       "      <td>Turn left ahead</td>\n",
       "      <td>360</td>\n",
       "    </tr>\n",
       "    <tr>\n",
       "      <th>27</th>\n",
       "      <td>6</td>\n",
       "      <td>End of speed limit (80km/h)</td>\n",
       "      <td>360</td>\n",
       "    </tr>\n",
       "    <tr>\n",
       "      <th>28</th>\n",
       "      <td>36</td>\n",
       "      <td>Go straight or right</td>\n",
       "      <td>330</td>\n",
       "    </tr>\n",
       "    <tr>\n",
       "      <th>29</th>\n",
       "      <td>22</td>\n",
       "      <td>Bumpy road</td>\n",
       "      <td>330</td>\n",
       "    </tr>\n",
       "    <tr>\n",
       "      <th>30</th>\n",
       "      <td>40</td>\n",
       "      <td>Roundabout mandatory</td>\n",
       "      <td>300</td>\n",
       "    </tr>\n",
       "    <tr>\n",
       "      <th>31</th>\n",
       "      <td>20</td>\n",
       "      <td>Dangerous curve to the right</td>\n",
       "      <td>300</td>\n",
       "    </tr>\n",
       "    <tr>\n",
       "      <th>32</th>\n",
       "      <td>39</td>\n",
       "      <td>Keep left</td>\n",
       "      <td>270</td>\n",
       "    </tr>\n",
       "    <tr>\n",
       "      <th>33</th>\n",
       "      <td>21</td>\n",
       "      <td>Double curve</td>\n",
       "      <td>270</td>\n",
       "    </tr>\n",
       "    <tr>\n",
       "      <th>34</th>\n",
       "      <td>29</td>\n",
       "      <td>Bicycles crossing</td>\n",
       "      <td>240</td>\n",
       "    </tr>\n",
       "    <tr>\n",
       "      <th>35</th>\n",
       "      <td>24</td>\n",
       "      <td>Road narrows on the right</td>\n",
       "      <td>240</td>\n",
       "    </tr>\n",
       "    <tr>\n",
       "      <th>36</th>\n",
       "      <td>41</td>\n",
       "      <td>End of no passing</td>\n",
       "      <td>210</td>\n",
       "    </tr>\n",
       "    <tr>\n",
       "      <th>37</th>\n",
       "      <td>42</td>\n",
       "      <td>End of no passing by vehicles over 3.5 metric ...</td>\n",
       "      <td>210</td>\n",
       "    </tr>\n",
       "    <tr>\n",
       "      <th>38</th>\n",
       "      <td>32</td>\n",
       "      <td>End of all speed and passing limits</td>\n",
       "      <td>210</td>\n",
       "    </tr>\n",
       "    <tr>\n",
       "      <th>39</th>\n",
       "      <td>27</td>\n",
       "      <td>Pedestrians</td>\n",
       "      <td>210</td>\n",
       "    </tr>\n",
       "    <tr>\n",
       "      <th>40</th>\n",
       "      <td>37</td>\n",
       "      <td>Go straight or left</td>\n",
       "      <td>180</td>\n",
       "    </tr>\n",
       "    <tr>\n",
       "      <th>41</th>\n",
       "      <td>19</td>\n",
       "      <td>Dangerous curve to the left</td>\n",
       "      <td>180</td>\n",
       "    </tr>\n",
       "    <tr>\n",
       "      <th>42</th>\n",
       "      <td>0</td>\n",
       "      <td>Speed limit (20km/h)</td>\n",
       "      <td>180</td>\n",
       "    </tr>\n",
       "  </tbody>\n",
       "</table>\n",
       "</div>"
      ],
      "text/plain": [
       "    ClassId                                           SignName  #Counts\n",
       "0         2                               Speed limit (50km/h)     2010\n",
       "1         1                               Speed limit (30km/h)     1980\n",
       "2        13                                              Yield     1920\n",
       "3        12                                      Priority road     1890\n",
       "4        38                                         Keep right     1860\n",
       "5        10       No passing for vehicles over 3.5 metric tons     1800\n",
       "6         4                               Speed limit (70km/h)     1770\n",
       "7         5                               Speed limit (80km/h)     1650\n",
       "8        25                                          Road work     1350\n",
       "9         9                                         No passing     1320\n",
       "10        7                              Speed limit (100km/h)     1290\n",
       "11        3                               Speed limit (60km/h)     1260\n",
       "12        8                              Speed limit (120km/h)     1260\n",
       "13       11              Right-of-way at the next intersection     1170\n",
       "14       35                                         Ahead only     1080\n",
       "15       18                                    General caution     1080\n",
       "16       17                                           No entry      990\n",
       "17       31                              Wild animals crossing      690\n",
       "18       14                                               Stop      690\n",
       "19       33                                   Turn right ahead      599\n",
       "20       15                                        No vehicles      540\n",
       "21       26                                    Traffic signals      540\n",
       "22       28                                  Children crossing      480\n",
       "23       23                                      Slippery road      450\n",
       "24       30                                 Beware of ice/snow      390\n",
       "25       16           Vehicles over 3.5 metric tons prohibited      360\n",
       "26       34                                    Turn left ahead      360\n",
       "27        6                        End of speed limit (80km/h)      360\n",
       "28       36                               Go straight or right      330\n",
       "29       22                                         Bumpy road      330\n",
       "30       40                               Roundabout mandatory      300\n",
       "31       20                       Dangerous curve to the right      300\n",
       "32       39                                          Keep left      270\n",
       "33       21                                       Double curve      270\n",
       "34       29                                  Bicycles crossing      240\n",
       "35       24                          Road narrows on the right      240\n",
       "36       41                                  End of no passing      210\n",
       "37       42  End of no passing by vehicles over 3.5 metric ...      210\n",
       "38       32                End of all speed and passing limits      210\n",
       "39       27                                        Pedestrians      210\n",
       "40       37                                Go straight or left      180\n",
       "41       19                        Dangerous curve to the left      180\n",
       "42        0                               Speed limit (20km/h)      180"
      ]
     },
     "execution_count": 24,
     "metadata": {},
     "output_type": "execute_result"
    }
   ],
   "source": [
    "data_pd_sorted"
   ]
  },
  {
   "cell_type": "markdown",
   "metadata": {},
   "source": [
    "----\n",
    "\n",
    "## Step 2: Design and Test a Model Architecture\n",
    "\n",
    "Design and implement a deep learning model that learns to recognize traffic signs. Train and test your model on the [German Traffic Sign Dataset](http://benchmark.ini.rub.de/?section=gtsrb&subsection=dataset).\n",
    "\n",
    "The LeNet-5 implementation shown in the [classroom](https://classroom.udacity.com/nanodegrees/nd013/parts/fbf77062-5703-404e-b60c-95b78b2f3f9e/modules/6df7ae49-c61c-4bb2-a23e-6527e69209ec/lessons/601ae704-1035-4287-8b11-e2c2716217ad/concepts/d4aca031-508f-4e0b-b493-e7b706120f81) at the end of the CNN lesson is a solid starting point. You'll have to change the number of classes and possibly the preprocessing, but aside from that it's plug and play! \n",
    "\n",
    "With the LeNet-5 solution from the lecture, you should expect a validation set accuracy of about 0.89. To meet specifications, the validation set accuracy will need to be at least 0.93. It is possible to get an even higher accuracy, but 0.93 is the minimum for a successful project submission. \n",
    "\n",
    "There are various aspects to consider when thinking about this problem:\n",
    "\n",
    "- Neural network architecture (is the network over or underfitting?)\n",
    "- Play around preprocessing techniques (normalization, rgb to grayscale, etc)\n",
    "- Number of examples per label (some have more than others).\n",
    "- Generate fake data.\n",
    "\n",
    "Here is an example of a [published baseline model on this problem](http://yann.lecun.com/exdb/publis/pdf/sermanet-ijcnn-11.pdf). It's not required to be familiar with the approach used in the paper but, it's good practice to try to read papers like these."
   ]
  },
  {
   "cell_type": "markdown",
   "metadata": {},
   "source": [
    "### Pre-process the Data Set (normalization, grayscale, etc.)"
   ]
  },
  {
   "cell_type": "markdown",
   "metadata": {},
   "source": [
    "Minimally, the image data should be normalized so that the data has mean zero and equal variance. For image data, `(pixel - 128)/ 128` is a quick way to approximately normalize the data and can be used in this project. \n",
    "\n",
    "Other pre-processing steps are optional. You can try different techniques to see if it improves performance. \n",
    "\n",
    "Use the code cell (or multiple code cells, if necessary) to implement the first step of your project."
   ]
  },
  {
   "cell_type": "markdown",
   "metadata": {},
   "source": [
    "### Model Architecture"
   ]
  },
  {
   "cell_type": "code",
   "execution_count": 11,
   "metadata": {},
   "outputs": [],
   "source": [
    "def LeNet(x):    \n",
    "    # Arguments used for tf.truncated_normal, randomly defines variables for the weights and biases for each layer\n",
    "    mu = 0\n",
    "    sigma = 0.1\n",
    "\n",
    "    # TODO: Layer 1: Convolutional. Input = 32x32x1. Output = 28x28x20.\n",
    "    F_W1 = tf.Variable(tf.random_normal([5, 5, 1, 20], mean=mu, stddev=sigma))\n",
    "    F_b1 = tf.Variable(tf.zeros(20))\n",
    "\n",
    "    strides = [1, 1, 1, 1]\n",
    "    padding = 'VALID'\n",
    "    layer1_output = tf.nn.conv2d(x, F_W1, strides, padding) + F_b1\n",
    "    \n",
    "    # TODO: Activation.\n",
    "    layer1_output_relu = tf.nn.relu(layer1_output)\n",
    "\n",
    "    # TODO: Pooling. Input = 28x28x20. Output = 14x14x20.\n",
    "    filter_shape = [1, 2, 2, 1]\n",
    "    strides = [1, 2, 2, 1]\n",
    "    padding = 'VALID'\n",
    "    pool1 = tf.nn.max_pool(layer1_output_relu, filter_shape, strides, padding)\n",
    "\n",
    "    # TODO: Layer 2: Convolutional. Output = 10x10x36.\n",
    "    F_W2 = tf.Variable(tf.random_normal([5, 5, 20, 36], mean=mu, stddev=sigma))\n",
    "    F_b2 = tf.Variable(tf.zeros(36))\n",
    "    strides = [1, 1, 1, 1]\n",
    "    padding = 'VALID'\n",
    "    layer2_output = tf.nn.conv2d(pool1, F_W2, strides, padding) + F_b2\n",
    "\n",
    "    # TODO: Activation.\n",
    "    layer2_output_relu = tf.nn.relu(layer2_output)\n",
    "\n",
    "    # TODO: Pooling. Input = 10x10x36. Output = 5x5x36.\n",
    "    filter_shape = [1, 2, 2, 1]\n",
    "    strides = [1, 2, 2, 1]\n",
    "    pool2 = tf.nn.max_pool(layer2_output_relu, filter_shape, strides, padding)\n",
    "\n",
    "    # TODO: Flatten. Input = 5x5x36. Output = 900.\n",
    "    layer2_output_flatten = flatten(pool2)  \n",
    "\n",
    "    # TODO: Layer 3: Fully Connected. Input = 900. Output = 360.\n",
    "    fc_wd1 = tf.Variable(tf.random_normal([900, 360], mean=mu, stddev=sigma))\n",
    "    fc_bias1 = tf.Variable(tf.zeros(360))\n",
    "    FC_layer1 = tf.add(tf.matmul(layer2_output_flatten, fc_wd1), fc_bias1)\n",
    "\n",
    "    # TODO: Activation.\n",
    "    FC_output1 = tf.nn.relu(FC_layer1)\n",
    "\n",
    "    # TODO: Layer 4: Fully Connected. Input = 360. Output = 200.\n",
    "    fc_wd2 = tf.Variable(tf.random_normal([360, 200], mean=mu, stddev=sigma))\n",
    "    fc_bias2 = tf.Variable(tf.zeros(200))\n",
    "    FC_layer2 = tf.add(tf.matmul(FC_output1, fc_wd2), fc_bias2)\n",
    "\n",
    "    # TODO: Activation.\n",
    "    FC_output2 = tf.nn.relu(FC_layer2)\n",
    "\n",
    "    # TODO: Layer 5: Fully Connected. Input = 200. Output = 43=n_classes.\n",
    "    fc_wd3 = tf.Variable(tf.random_normal([200, n_classes], mean=mu, stddev=sigma))\n",
    "    fc_bias3 = tf.Variable(tf.zeros(n_classes))\n",
    "    logits = tf.add(tf.matmul(FC_output2, fc_wd3), fc_bias3)\n",
    "\n",
    "    return logits"
   ]
  },
  {
   "cell_type": "markdown",
   "metadata": {},
   "source": [
    "### Train, Validate and Test the Model"
   ]
  },
  {
   "cell_type": "markdown",
   "metadata": {},
   "source": [
    "A validation set can be used to assess how well the model is performing. A low accuracy on the training and validation\n",
    "sets imply underfitting. A high accuracy on the training set but low accuracy on the validation set implies overfitting."
   ]
  },
  {
   "cell_type": "code",
   "execution_count": 12,
   "metadata": {},
   "outputs": [],
   "source": [
    "x = tf.placeholder(tf.float32, (None, 32, 32, 1))\n",
    "y = tf.placeholder(tf.int32, (None))\n",
    "one_hot_y = tf.one_hot(y, n_classes)"
   ]
  },
  {
   "cell_type": "code",
   "execution_count": 13,
   "metadata": {},
   "outputs": [],
   "source": [
    "def grayScale(X):\n",
    "    #0.21 R + 0.72 G + 0.07 B\n",
    "    gray = 0.21*X[:,:,:,0]+0.72*X[:,:,:,1]+0.07*X[:,:,:,2]\n",
    "    gray = gray.reshape(X.shape[0], X.shape[1], X.shape[2],1)\n",
    "    return gray"
   ]
  },
  {
   "cell_type": "code",
   "execution_count": 14,
   "metadata": {},
   "outputs": [],
   "source": [
    "### Preprocess the data here. It is required to normalize the data. Other preprocessing steps could include \n",
    "### converting to grayscale, etc.\n",
    "### Feel free to use as many code cells as needed.\n",
    "\n",
    "#grayscale\n",
    "X_train_gray=grayScale(X_train)\n",
    "X_valid_gray=grayScale(X_valid)\n",
    "\n",
    "#normalization\n",
    "X_train_gray_nm = (X_train_gray/128 - 1)\n",
    "X_valid_gray_nm = (X_valid_gray/128 - 1)"
   ]
  },
  {
   "cell_type": "code",
   "execution_count": 15,
   "metadata": {},
   "outputs": [],
   "source": [
    "#Evaluate accuracy\n",
    "def evaluate(X_data, y_data, BATCH_SIZE):\n",
    "    num_examples = len(X_data)\n",
    "    total_accuracy = 0\n",
    "    sess = tf.get_default_session()\n",
    "    for offset in range(0, num_examples, BATCH_SIZE):\n",
    "        batch_x, batch_y = X_data[offset:offset+BATCH_SIZE], y_data[offset:offset+BATCH_SIZE]\n",
    "        accuracy = sess.run(accuracy_operation, feed_dict={x: batch_x, y: batch_y})\n",
    "        total_accuracy += (accuracy * len(batch_x))\n",
    "    return total_accuracy / num_examples"
   ]
  },
  {
   "cell_type": "code",
   "execution_count": 16,
   "metadata": {},
   "outputs": [],
   "source": [
    "### Train your model here.\n",
    "\n",
    "rate = 0.002\n",
    "EPOCHS = 100\n",
    "BATCH_SIZE = 256\n",
    "\n",
    "logits = LeNet(x)\n",
    "cross_entropy = tf.nn.softmax_cross_entropy_with_logits(labels=one_hot_y, logits=logits)\n",
    "loss_operation = tf.reduce_mean(cross_entropy)\n",
    "optimizer = tf.train.AdamOptimizer(learning_rate = rate)\n",
    "training_operation = optimizer.minimize(loss_operation)\n",
    "\n",
    "correct_prediction = tf.equal(tf.argmax(logits, 1), tf.argmax(one_hot_y, 1))\n",
    "accuracy_operation = tf.reduce_mean(tf.cast(correct_prediction, tf.float32))\n",
    "varsaver = tf.train.Saver()\n",
    "\n"
   ]
  },
  {
   "cell_type": "code",
   "execution_count": 17,
   "metadata": {},
   "outputs": [
    {
     "name": "stdout",
     "output_type": "stream",
     "text": [
      "Training...\n",
      "rate = 0.002 , EPOCHS = 100 , BATCH_SIZE = 256\n",
      "\n",
      "EPOCH 1 ...\n",
      "Training Accuracy = 0.961\n",
      "Validation Accuracy = 0.845\n",
      "\n",
      "EPOCH 2 ...\n",
      "Training Accuracy = 0.986\n",
      "Validation Accuracy = 0.901\n",
      "\n",
      "EPOCH 3 ...\n",
      "Training Accuracy = 0.990\n",
      "Validation Accuracy = 0.908\n",
      "\n",
      "EPOCH 4 ...\n",
      "Training Accuracy = 0.993\n",
      "Validation Accuracy = 0.902\n",
      "\n",
      "EPOCH 5 ...\n",
      "Training Accuracy = 0.997\n",
      "Validation Accuracy = 0.916\n",
      "\n",
      "EPOCH 6 ...\n",
      "Training Accuracy = 0.993\n",
      "Validation Accuracy = 0.909\n",
      "\n",
      "EPOCH 7 ...\n",
      "Training Accuracy = 0.994\n",
      "Validation Accuracy = 0.923\n",
      "\n",
      "EPOCH 8 ...\n",
      "Training Accuracy = 0.995\n",
      "Validation Accuracy = 0.925\n",
      "\n",
      "EPOCH 9 ...\n",
      "Training Accuracy = 0.997\n",
      "Validation Accuracy = 0.934\n",
      "\n",
      "EPOCH 10 ...\n",
      "Training Accuracy = 0.995\n",
      "Validation Accuracy = 0.934\n",
      "\n",
      "EPOCH 11 ...\n",
      "Training Accuracy = 0.995\n",
      "Validation Accuracy = 0.920\n",
      "\n",
      "EPOCH 12 ...\n",
      "Training Accuracy = 0.997\n",
      "Validation Accuracy = 0.923\n",
      "\n",
      "EPOCH 13 ...\n",
      "Training Accuracy = 0.998\n",
      "Validation Accuracy = 0.932\n",
      "\n",
      "EPOCH 14 ...\n",
      "Training Accuracy = 0.991\n",
      "Validation Accuracy = 0.916\n",
      "\n",
      "EPOCH 15 ...\n",
      "Training Accuracy = 1.000\n",
      "Validation Accuracy = 0.946\n",
      "\n",
      "EPOCH 16 ...\n",
      "Training Accuracy = 1.000\n",
      "Validation Accuracy = 0.937\n",
      "\n",
      "EPOCH 17 ...\n",
      "Training Accuracy = 0.998\n",
      "Validation Accuracy = 0.942\n",
      "\n",
      "EPOCH 18 ...\n",
      "Training Accuracy = 0.994\n",
      "Validation Accuracy = 0.926\n",
      "\n",
      "EPOCH 19 ...\n",
      "Training Accuracy = 0.996\n",
      "Validation Accuracy = 0.931\n",
      "\n",
      "EPOCH 20 ...\n",
      "Training Accuracy = 0.998\n",
      "Validation Accuracy = 0.937\n",
      "\n",
      "EPOCH 21 ...\n",
      "Training Accuracy = 0.996\n",
      "Validation Accuracy = 0.933\n",
      "\n",
      "EPOCH 22 ...\n",
      "Training Accuracy = 0.998\n",
      "Validation Accuracy = 0.937\n",
      "\n",
      "EPOCH 23 ...\n",
      "Training Accuracy = 0.999\n",
      "Validation Accuracy = 0.943\n",
      "\n",
      "EPOCH 24 ...\n",
      "Training Accuracy = 0.990\n",
      "Validation Accuracy = 0.931\n",
      "\n",
      "EPOCH 25 ...\n",
      "Training Accuracy = 0.991\n",
      "Validation Accuracy = 0.917\n",
      "\n",
      "EPOCH 26 ...\n",
      "Training Accuracy = 0.996\n",
      "Validation Accuracy = 0.940\n",
      "\n",
      "EPOCH 27 ...\n",
      "Training Accuracy = 0.999\n",
      "Validation Accuracy = 0.947\n",
      "\n",
      "EPOCH 28 ...\n",
      "Training Accuracy = 0.997\n",
      "Validation Accuracy = 0.937\n",
      "\n",
      "EPOCH 29 ...\n",
      "Training Accuracy = 0.997\n",
      "Validation Accuracy = 0.923\n",
      "\n",
      "EPOCH 30 ...\n",
      "Training Accuracy = 0.996\n",
      "Validation Accuracy = 0.931\n",
      "\n",
      "EPOCH 31 ...\n",
      "Training Accuracy = 0.997\n",
      "Validation Accuracy = 0.942\n",
      "\n",
      "EPOCH 32 ...\n",
      "Training Accuracy = 0.999\n",
      "Validation Accuracy = 0.939\n",
      "\n",
      "EPOCH 33 ...\n",
      "Training Accuracy = 0.997\n",
      "Validation Accuracy = 0.934\n",
      "\n",
      "EPOCH 34 ...\n",
      "Training Accuracy = 0.998\n",
      "Validation Accuracy = 0.940\n",
      "\n",
      "EPOCH 35 ...\n",
      "Training Accuracy = 0.998\n",
      "Validation Accuracy = 0.941\n",
      "\n",
      "EPOCH 36 ...\n",
      "Training Accuracy = 0.999\n",
      "Validation Accuracy = 0.945\n",
      "\n",
      "EPOCH 37 ...\n",
      "Training Accuracy = 0.999\n",
      "Validation Accuracy = 0.945\n",
      "\n",
      "EPOCH 38 ...\n",
      "Training Accuracy = 0.998\n",
      "Validation Accuracy = 0.931\n",
      "\n",
      "EPOCH 39 ...\n",
      "Training Accuracy = 0.997\n",
      "Validation Accuracy = 0.926\n",
      "\n",
      "EPOCH 40 ...\n",
      "Training Accuracy = 0.999\n",
      "Validation Accuracy = 0.942\n",
      "\n",
      "EPOCH 41 ...\n",
      "Training Accuracy = 0.999\n",
      "Validation Accuracy = 0.947\n",
      "\n",
      "EPOCH 42 ...\n",
      "Training Accuracy = 1.000\n",
      "Validation Accuracy = 0.951\n",
      "\n",
      "EPOCH 43 ...\n",
      "Training Accuracy = 1.000\n",
      "Validation Accuracy = 0.952\n",
      "\n",
      "EPOCH 44 ...\n",
      "Training Accuracy = 1.000\n",
      "Validation Accuracy = 0.953\n",
      "\n",
      "EPOCH 45 ...\n",
      "Training Accuracy = 1.000\n",
      "Validation Accuracy = 0.953\n",
      "\n",
      "EPOCH 46 ...\n",
      "Training Accuracy = 1.000\n",
      "Validation Accuracy = 0.953\n",
      "\n",
      "EPOCH 47 ...\n",
      "Training Accuracy = 1.000\n",
      "Validation Accuracy = 0.952\n",
      "\n",
      "EPOCH 48 ...\n",
      "Training Accuracy = 1.000\n",
      "Validation Accuracy = 0.952\n",
      "\n",
      "EPOCH 49 ...\n",
      "Training Accuracy = 1.000\n",
      "Validation Accuracy = 0.953\n",
      "\n",
      "EPOCH 50 ...\n",
      "Training Accuracy = 1.000\n",
      "Validation Accuracy = 0.954\n",
      "\n",
      "EPOCH 51 ...\n",
      "Training Accuracy = 1.000\n",
      "Validation Accuracy = 0.954\n",
      "\n",
      "EPOCH 52 ...\n",
      "Training Accuracy = 1.000\n",
      "Validation Accuracy = 0.954\n",
      "\n",
      "EPOCH 53 ...\n",
      "Training Accuracy = 1.000\n",
      "Validation Accuracy = 0.954\n",
      "\n",
      "EPOCH 54 ...\n",
      "Training Accuracy = 1.000\n",
      "Validation Accuracy = 0.954\n",
      "\n",
      "EPOCH 55 ...\n",
      "Training Accuracy = 1.000\n",
      "Validation Accuracy = 0.955\n",
      "\n",
      "EPOCH 56 ...\n",
      "Training Accuracy = 1.000\n",
      "Validation Accuracy = 0.955\n",
      "\n",
      "EPOCH 57 ...\n",
      "Training Accuracy = 1.000\n",
      "Validation Accuracy = 0.955\n",
      "\n",
      "EPOCH 58 ...\n",
      "Training Accuracy = 1.000\n",
      "Validation Accuracy = 0.955\n",
      "\n",
      "EPOCH 59 ...\n",
      "Training Accuracy = 1.000\n",
      "Validation Accuracy = 0.955\n",
      "\n",
      "EPOCH 60 ...\n",
      "Training Accuracy = 1.000\n",
      "Validation Accuracy = 0.955\n",
      "\n",
      "EPOCH 61 ...\n",
      "Training Accuracy = 1.000\n",
      "Validation Accuracy = 0.955\n",
      "\n",
      "EPOCH 62 ...\n",
      "Training Accuracy = 1.000\n",
      "Validation Accuracy = 0.955\n",
      "\n",
      "EPOCH 63 ...\n",
      "Training Accuracy = 1.000\n",
      "Validation Accuracy = 0.955\n",
      "\n",
      "EPOCH 64 ...\n",
      "Training Accuracy = 1.000\n",
      "Validation Accuracy = 0.955\n",
      "\n",
      "EPOCH 65 ...\n",
      "Training Accuracy = 1.000\n",
      "Validation Accuracy = 0.955\n",
      "\n",
      "EPOCH 66 ...\n",
      "Training Accuracy = 1.000\n",
      "Validation Accuracy = 0.955\n",
      "\n",
      "EPOCH 67 ...\n",
      "Training Accuracy = 1.000\n",
      "Validation Accuracy = 0.955\n",
      "\n",
      "EPOCH 68 ...\n",
      "Training Accuracy = 1.000\n",
      "Validation Accuracy = 0.955\n",
      "\n",
      "EPOCH 69 ...\n",
      "Training Accuracy = 1.000\n",
      "Validation Accuracy = 0.955\n",
      "\n",
      "EPOCH 70 ...\n",
      "Training Accuracy = 1.000\n",
      "Validation Accuracy = 0.956\n",
      "\n",
      "EPOCH 71 ...\n",
      "Training Accuracy = 1.000\n",
      "Validation Accuracy = 0.955\n",
      "\n",
      "EPOCH 72 ...\n",
      "Training Accuracy = 1.000\n",
      "Validation Accuracy = 0.955\n",
      "\n",
      "EPOCH 73 ...\n",
      "Training Accuracy = 1.000\n",
      "Validation Accuracy = 0.955\n",
      "\n",
      "EPOCH 74 ...\n",
      "Training Accuracy = 1.000\n",
      "Validation Accuracy = 0.956\n",
      "\n",
      "EPOCH 75 ...\n",
      "Training Accuracy = 1.000\n",
      "Validation Accuracy = 0.955\n",
      "\n",
      "EPOCH 76 ...\n",
      "Training Accuracy = 1.000\n",
      "Validation Accuracy = 0.955\n",
      "\n",
      "EPOCH 77 ...\n",
      "Training Accuracy = 1.000\n",
      "Validation Accuracy = 0.955\n",
      "\n",
      "EPOCH 78 ...\n",
      "Training Accuracy = 1.000\n",
      "Validation Accuracy = 0.955\n",
      "\n",
      "EPOCH 79 ...\n",
      "Training Accuracy = 1.000\n",
      "Validation Accuracy = 0.955\n",
      "\n",
      "EPOCH 80 ...\n",
      "Training Accuracy = 1.000\n",
      "Validation Accuracy = 0.955\n",
      "\n",
      "EPOCH 81 ...\n",
      "Training Accuracy = 1.000\n",
      "Validation Accuracy = 0.955\n",
      "\n",
      "EPOCH 82 ...\n",
      "Training Accuracy = 1.000\n",
      "Validation Accuracy = 0.956\n",
      "\n",
      "EPOCH 83 ...\n",
      "Training Accuracy = 1.000\n",
      "Validation Accuracy = 0.956\n",
      "\n",
      "EPOCH 84 ...\n",
      "Training Accuracy = 1.000\n",
      "Validation Accuracy = 0.956\n",
      "\n",
      "EPOCH 85 ...\n",
      "Training Accuracy = 1.000\n",
      "Validation Accuracy = 0.956\n",
      "\n",
      "EPOCH 86 ...\n",
      "Training Accuracy = 1.000\n",
      "Validation Accuracy = 0.956\n",
      "\n",
      "EPOCH 87 ...\n",
      "Training Accuracy = 1.000\n",
      "Validation Accuracy = 0.956\n",
      "\n",
      "EPOCH 88 ...\n",
      "Training Accuracy = 1.000\n",
      "Validation Accuracy = 0.956\n",
      "\n",
      "EPOCH 89 ...\n",
      "Training Accuracy = 1.000\n",
      "Validation Accuracy = 0.956\n",
      "\n",
      "EPOCH 90 ...\n",
      "Training Accuracy = 1.000\n",
      "Validation Accuracy = 0.957\n",
      "\n",
      "EPOCH 91 ...\n",
      "Training Accuracy = 1.000\n",
      "Validation Accuracy = 0.957\n",
      "\n",
      "EPOCH 92 ...\n",
      "Training Accuracy = 1.000\n",
      "Validation Accuracy = 0.957\n",
      "\n",
      "EPOCH 93 ...\n",
      "Training Accuracy = 1.000\n",
      "Validation Accuracy = 0.957\n",
      "\n",
      "EPOCH 94 ...\n",
      "Training Accuracy = 1.000\n",
      "Validation Accuracy = 0.957\n",
      "\n",
      "EPOCH 95 ...\n",
      "Training Accuracy = 1.000\n",
      "Validation Accuracy = 0.957\n",
      "\n",
      "EPOCH 96 ...\n",
      "Training Accuracy = 1.000\n",
      "Validation Accuracy = 0.957\n",
      "\n",
      "EPOCH 97 ...\n",
      "Training Accuracy = 1.000\n",
      "Validation Accuracy = 0.957\n",
      "\n",
      "EPOCH 98 ...\n",
      "Training Accuracy = 1.000\n",
      "Validation Accuracy = 0.957\n",
      "\n",
      "EPOCH 99 ...\n",
      "Training Accuracy = 1.000\n",
      "Validation Accuracy = 0.957\n",
      "\n",
      "EPOCH 100 ...\n",
      "Training Accuracy = 1.000\n",
      "Validation Accuracy = 0.957\n",
      "\n",
      "Model saved\n"
     ]
    }
   ],
   "source": [
    "with tf.Session() as sess:\n",
    "    sess.run(tf.global_variables_initializer())\n",
    "    num_examples = len(X_train)\n",
    "\n",
    "    print(\"Training...\")\n",
    "    print(\"rate = {} , EPOCHS = {} , BATCH_SIZE = {}\".format(rate, EPOCHS, BATCH_SIZE))\n",
    "    print()\n",
    "    for i in range(EPOCHS):\n",
    "        X_train_sh, y_train_sh = shuffle(X_train_gray_nm, y_train)\n",
    "        for offset in range(0, num_examples, BATCH_SIZE):\n",
    "            end = offset + BATCH_SIZE\n",
    "            batch_x, batch_y = X_train_sh[offset:end], y_train_sh[offset:end]\n",
    "            sess.run(training_operation, feed_dict={x: batch_x, y: batch_y})\n",
    "            \n",
    "        train_accuracy = evaluate(X_train_gray_nm, y_train, BATCH_SIZE)\n",
    "        validation_accuracy = evaluate(X_valid_gray_nm, y_valid, BATCH_SIZE)\n",
    "        print(\"EPOCH {} ...\".format(i+1))\n",
    "        print(\"Training Accuracy = {:.3f}\".format(train_accuracy))\n",
    "        print(\"Validation Accuracy = {:.3f}\".format(validation_accuracy))\n",
    "        print()\n",
    "\n",
    "    varsaver.save(sess, './model_rate002_epoch100_grayscale_nm_lenet')\n",
    "    print(\"Model saved\")"
   ]
  },
  {
   "cell_type": "markdown",
   "metadata": {},
   "source": [
    "# Test Accuracy on final CNN"
   ]
  },
  {
   "cell_type": "code",
   "execution_count": 18,
   "metadata": {},
   "outputs": [
    {
     "name": "stdout",
     "output_type": "stream",
     "text": [
      "Test Accuracy = 0.944\n",
      "\n"
     ]
    }
   ],
   "source": [
    "#Test Accuracy\n",
    "X_test_gray=grayScale(X_test)\n",
    "X_test_gray = (X_test_gray/128 - 1)\n",
    "\n",
    "with tf.Session() as sess:\n",
    "    saver = tf.train.import_meta_graph('model_rate002_epoch100_grayscale_nm_lenet.meta')\n",
    "    saver.restore(sess,tf.train.latest_checkpoint('./'))\n",
    "\n",
    "    test_accuracy = evaluate(X_test_gray, y_test, BATCH_SIZE)\n",
    "    print(\"Test Accuracy = {:.3f}\".format(test_accuracy))\n",
    "    print()"
   ]
  },
  {
   "cell_type": "markdown",
   "metadata": {},
   "source": [
    "# Pick an image from test set and see the prediction"
   ]
  },
  {
   "cell_type": "code",
   "execution_count": 132,
   "metadata": {},
   "outputs": [
    {
     "name": "stdout",
     "output_type": "stream",
     "text": [
      "4644\n",
      "5\n",
      "Speed limit (80km/h)\n"
     ]
    },
    {
     "data": {
      "image/png": "[encoded data removed]",
      "text/plain": [
       "<matplotlib.figure.Figure at 0x1622e9b70>"
      ]
     },
     "metadata": {},
     "output_type": "display_data"
    }
   ],
   "source": [
    "index = random.randint(0, len(X_test))\n",
    "test_image = X_test[index].squeeze()\n",
    "plt.figure(figsize=(1,1))\n",
    "plt.imshow(test_image)\n",
    "print(index)\n",
    "print(y_test[index])\n",
    "print(data_pd.loc[y_test[index]]['SignName'])"
   ]
  },
  {
   "cell_type": "code",
   "execution_count": 133,
   "metadata": {},
   "outputs": [
    {
     "name": "stdout",
     "output_type": "stream",
     "text": [
      "[5]\n",
      "TopKV2(values=array([[  1.00000000e+00,   6.66491142e-18,   1.04184879e-22,\n",
      "          6.38871626e-24,   1.50658350e-28]], dtype=float32), indices=array([[5, 3, 2, 1, 0]], dtype=int32))\n"
     ]
    }
   ],
   "source": [
    "test_image_r = test_image.reshape((1,32,32,3))\n",
    "\n",
    "test_image_gr=grayScale(test_image_r)\n",
    "test_image_n = (test_image_gr/128 - 1)\n",
    "label = tf.argmax(logits, 1)\n",
    "sf_prob = tf.nn.softmax(logits)\n",
    "topk = tf.nn.top_k(sf_prob, k=5)\n",
    "with tf.Session() as sess:\n",
    "    saver = tf.train.import_meta_graph('model_rate002_epoch100_grayscale_nm_lenet.meta')\n",
    "    saver.restore(sess,tf.train.latest_checkpoint('./'))\n",
    "    myLabel = sess.run(label, feed_dict={x: test_image_n})\n",
    "    test_prob  = sess.run(topk, feed_dict={x: test_image_n})\n",
    "    test_logits = sess.run(logits, feed_dict={x: test_image_n})\n",
    "   \n",
    "print (myLabel)\n",
    "print (test_prob)"
   ]
  },
  {
   "cell_type": "markdown",
   "metadata": {},
   "source": [
    "---\n",
    "\n",
    "## Step 3: Test a Model on New Images\n",
    "\n",
    "To give yourself more insight into how your model is working, download at least five pictures of German traffic signs from the web and use your model to predict the traffic sign type.\n",
    "\n",
    "You may find `signnames.csv` useful as it contains mappings from the class id (integer) to the actual sign name."
   ]
  },
  {
   "cell_type": "markdown",
   "metadata": {},
   "source": [
    "### Load and Output the Images"
   ]
  },
  {
   "cell_type": "code",
   "execution_count": 136,
   "metadata": {},
   "outputs": [
    {
     "name": "stdout",
     "output_type": "stream",
     "text": [
      "0.png\n",
      "1.png\n",
      "2.png\n",
      "3.png\n",
      "4.png\n",
      "5.png\n",
      "6.png\n",
      "7.png\n",
      "8.png\n",
      "Road_Work.jpg\n",
      "sign-1418256_1280.jpg\n",
      "Speed-limit.png\n",
      "zigzag_road_sign_icon.jpg\n"
     ]
    }
   ],
   "source": [
    "import os\n",
    "imageList = []\n",
    "\n",
    "testDir='testimages/'\n",
    "for filename in os.listdir(testDir):\n",
    "    ext = filename.split('.')[1]\n",
    "    if(ext == 'jpg' or ext == 'png'):\n",
    "        print(filename)\n",
    "        imageList.append(cv2.cvtColor(cv2.imread(testDir + filename), cv2.COLOR_BGR2RGB))\n",
    "\n",
    "imageList = np.array(imageList)\n"
   ]
  },
  {
   "cell_type": "markdown",
   "metadata": {},
   "source": [
    "### Predict the Sign Type for Each Image\n",
    "### Output Top 5 Softmax Probabilities For Each Image Found on the Web"
   ]
  },
  {
   "cell_type": "markdown",
   "metadata": {},
   "source": [
    "For each of the new images, print out the model's softmax probabilities to show the **certainty** of the model's predictions (limit the output to the top 5 probabilities for each image). [`tf.nn.top_k`](https://www.tensorflow.org/versions/r0.12/api_docs/python/nn.html#top_k) could prove helpful here. \n",
    "\n",
    "The example below demonstrates how tf.nn.top_k can be used to find the top k predictions for each image.\n",
    "\n",
    "`tf.nn.top_k` will return the values and indices (class ids) of the top k predictions. So if k=3, for each sign, it'll return the 3 largest probabilities (out of a possible 43) and the correspoding class ids.\n",
    "\n",
    "Take this numpy array as an example. The values in the array represent predictions. The array contains softmax probabilities for five candidate images with six possible classes. `tf.nn.top_k` is used to choose the three classes with the highest probability:\n",
    "\n",
    "```\n",
    "# (5, 6) array\n",
    "a = np.array([[ 0.24879643,  0.07032244,  0.12641572,  0.34763842,  0.07893497,\n",
    "         0.12789202],\n",
    "       [ 0.28086119,  0.27569815,  0.08594638,  0.0178669 ,  0.18063401,\n",
    "         0.15899337],\n",
    "       [ 0.26076848,  0.23664738,  0.08020603,  0.07001922,  0.1134371 ,\n",
    "         0.23892179],\n",
    "       [ 0.11943333,  0.29198961,  0.02605103,  0.26234032,  0.1351348 ,\n",
    "         0.16505091],\n",
    "       [ 0.09561176,  0.34396535,  0.0643941 ,  0.16240774,  0.24206137,\n",
    "         0.09155967]])\n",
    "```\n",
    "\n",
    "Running it through `sess.run(tf.nn.top_k(tf.constant(a), k=3))` produces:\n",
    "\n",
    "```\n",
    "TopKV2(values=array([[ 0.34763842,  0.24879643,  0.12789202],\n",
    "       [ 0.28086119,  0.27569815,  0.18063401],\n",
    "       [ 0.26076848,  0.23892179,  0.23664738],\n",
    "       [ 0.29198961,  0.26234032,  0.16505091],\n",
    "       [ 0.34396535,  0.24206137,  0.16240774]]), indices=array([[3, 0, 5],\n",
    "       [0, 1, 4],\n",
    "       [0, 5, 1],\n",
    "       [1, 3, 5],\n",
    "       [1, 4, 3]], dtype=int32))\n",
    "```\n",
    "\n",
    "Looking just at the first row we get `[ 0.34763842,  0.24879643,  0.12789202]`, you can confirm these are the 3 largest probabilities in `a`. You'll also notice `[3, 0, 5]` are the corresponding indices."
   ]
  },
  {
   "cell_type": "code",
   "execution_count": 137,
   "metadata": {
    "scrolled": false
   },
   "outputs": [
    {
     "data": {
      "image/png": "[encoded data removed]",
      "text/plain": [
       "<matplotlib.figure.Figure at 0x162c89278>"
      ]
     },
     "metadata": {},
     "output_type": "display_data"
    },
    {
     "name": "stdout",
     "output_type": "stream",
     "text": [
      "Pred label:  12    Priority road\n",
      "Name: SignName, dtype: object\n",
      "TopKV2(values=array([[ 1.,  0.,  0.,  0.,  0.]], dtype=float32), indices=array([[12,  0,  1,  2,  3]], dtype=int32))\n",
      ">>>>>>>>>>>>>>>>>>>>>>>>>>>>>>>>>>>>>>>>>>>>>>>>>>>>>>>>>>>>\n"
     ]
    },
    {
     "data": {
      "image/png": "[encoded data removed]",
      "text/plain": [
       "<matplotlib.figure.Figure at 0x1612f7c18>"
      ]
     },
     "metadata": {},
     "output_type": "display_data"
    },
    {
     "name": "stdout",
     "output_type": "stream",
     "text": [
      "Pred label:  33    Turn right ahead\n",
      "Name: SignName, dtype: object\n",
      "TopKV2(values=array([[ 1.,  0.,  0.,  0.,  0.]], dtype=float32), indices=array([[33,  0,  1,  2,  3]], dtype=int32))\n",
      ">>>>>>>>>>>>>>>>>>>>>>>>>>>>>>>>>>>>>>>>>>>>>>>>>>>>>>>>>>>>\n"
     ]
    },
    {
     "data": {
      "image/png": "[encoded data removed]",
      "text/plain": [
       "<matplotlib.figure.Figure at 0x1636a56d8>"
      ]
     },
     "metadata": {},
     "output_type": "display_data"
    },
    {
     "name": "stdout",
     "output_type": "stream",
     "text": [
      "Pred label:  13    Yield\n",
      "Name: SignName, dtype: object\n",
      "TopKV2(values=array([[ 1.,  0.,  0.,  0.,  0.]], dtype=float32), indices=array([[13,  0,  1,  2,  3]], dtype=int32))\n",
      ">>>>>>>>>>>>>>>>>>>>>>>>>>>>>>>>>>>>>>>>>>>>>>>>>>>>>>>>>>>>\n"
     ]
    },
    {
     "data": {
      "image/png": "[encoded data removed]",
      "text/plain": [
       "<matplotlib.figure.Figure at 0x1636c4240>"
      ]
     },
     "metadata": {},
     "output_type": "display_data"
    },
    {
     "name": "stdout",
     "output_type": "stream",
     "text": [
      "Pred label:  17    No entry\n",
      "Name: SignName, dtype: object\n",
      "TopKV2(values=array([[ 1.,  0.,  0.,  0.,  0.]], dtype=float32), indices=array([[17,  0,  1,  2,  3]], dtype=int32))\n",
      ">>>>>>>>>>>>>>>>>>>>>>>>>>>>>>>>>>>>>>>>>>>>>>>>>>>>>>>>>>>>\n"
     ]
    },
    {
     "data": {
      "image/png": "[encoded data removed]",
      "text/plain": [
       "<matplotlib.figure.Figure at 0x16b638b70>"
      ]
     },
     "metadata": {},
     "output_type": "display_data"
    },
    {
     "name": "stdout",
     "output_type": "stream",
     "text": [
      "Pred label:  4    Speed limit (70km/h)\n",
      "Name: SignName, dtype: object\n",
      "TopKV2(values=array([[  1.00000000e+00,   2.55932164e-09,   1.38405616e-14,\n",
      "          1.94629814e-20,   1.30862116e-23]], dtype=float32), indices=array([[ 4,  0,  1, 14, 40]], dtype=int32))\n",
      ">>>>>>>>>>>>>>>>>>>>>>>>>>>>>>>>>>>>>>>>>>>>>>>>>>>>>>>>>>>>\n"
     ]
    },
    {
     "data": {
      "image/png": "[encoded data removed]",
      "text/plain": [
       "<matplotlib.figure.Figure at 0x1630ae0f0>"
      ]
     },
     "metadata": {},
     "output_type": "display_data"
    },
    {
     "name": "stdout",
     "output_type": "stream",
     "text": [
      "Pred label:  1    Speed limit (30km/h)\n",
      "Name: SignName, dtype: object\n",
      "TopKV2(values=array([[  1.00000000e+00,   2.13289911e-12,   8.68219105e-15,\n",
      "          1.80090653e-17,   4.01968419e-18]], dtype=float32), indices=array([[1, 5, 0, 2, 6]], dtype=int32))\n",
      ">>>>>>>>>>>>>>>>>>>>>>>>>>>>>>>>>>>>>>>>>>>>>>>>>>>>>>>>>>>>\n"
     ]
    },
    {
     "data": {
      "image/png": "[encoded data removed]",
      "text/plain": [
       "<matplotlib.figure.Figure at 0x16b5ada90>"
      ]
     },
     "metadata": {},
     "output_type": "display_data"
    },
    {
     "name": "stdout",
     "output_type": "stream",
     "text": [
      "Pred label:  28    Children crossing\n",
      "Name: SignName, dtype: object\n",
      "TopKV2(values=array([[  1.00000000e+00,   2.86740881e-24,   4.44524649e-25,\n",
      "          2.63549011e-25,   3.53997695e-26]], dtype=float32), indices=array([[28, 20, 29, 27, 23]], dtype=int32))\n",
      ">>>>>>>>>>>>>>>>>>>>>>>>>>>>>>>>>>>>>>>>>>>>>>>>>>>>>>>>>>>>\n"
     ]
    },
    {
     "data": {
      "image/png": "[encoded data removed]",
      "text/plain": [
       "<matplotlib.figure.Figure at 0x16b5f9668>"
      ]
     },
     "metadata": {},
     "output_type": "display_data"
    },
    {
     "name": "stdout",
     "output_type": "stream",
     "text": [
      "Pred label:  35    Ahead only\n",
      "Name: SignName, dtype: object\n",
      "TopKV2(values=array([[  1.00000000e+00,   4.62540335e-21,   1.37466467e-24,\n",
      "          1.02132823e-28,   1.54442384e-29]], dtype=float32), indices=array([[35, 34, 36, 12,  9]], dtype=int32))\n",
      ">>>>>>>>>>>>>>>>>>>>>>>>>>>>>>>>>>>>>>>>>>>>>>>>>>>>>>>>>>>>\n"
     ]
    },
    {
     "data": {
      "image/png": "[encoded data removed]",
      "text/plain": [
       "<matplotlib.figure.Figure at 0x1623d1a90>"
      ]
     },
     "metadata": {},
     "output_type": "display_data"
    },
    {
     "name": "stdout",
     "output_type": "stream",
     "text": [
      "Pred label:  16    Vehicles over 3.5 metric tons prohibited\n",
      "Name: SignName, dtype: object\n",
      "TopKV2(values=array([[  1.00000000e+00,   4.25558414e-20,   2.81319861e-20,\n",
      "          9.30760145e-22,   3.44261699e-24]], dtype=float32), indices=array([[16, 12, 40,  9, 10]], dtype=int32))\n",
      ">>>>>>>>>>>>>>>>>>>>>>>>>>>>>>>>>>>>>>>>>>>>>>>>>>>>>>>>>>>>\n"
     ]
    },
    {
     "data": {
      "image/png": "[encoded data removed]",
      "text/plain": [
       "<matplotlib.figure.Figure at 0x1628d5518>"
      ]
     },
     "metadata": {},
     "output_type": "display_data"
    },
    {
     "name": "stdout",
     "output_type": "stream",
     "text": [
      "Pred label:  25    Road work\n",
      "Name: SignName, dtype: object\n",
      "TopKV2(values=array([[  1.00000000e+00,   2.13125732e-11,   8.54220392e-16,\n",
      "          8.19389392e-16,   9.58269748e-17]], dtype=float32), indices=array([[25, 20, 22, 24, 26]], dtype=int32))\n",
      ">>>>>>>>>>>>>>>>>>>>>>>>>>>>>>>>>>>>>>>>>>>>>>>>>>>>>>>>>>>>\n"
     ]
    },
    {
     "data": {
      "image/png": "[encoded data removed]",
      "text/plain": [
       "<matplotlib.figure.Figure at 0x16274ae80>"
      ]
     },
     "metadata": {},
     "output_type": "display_data"
    },
    {
     "name": "stdout",
     "output_type": "stream",
     "text": [
      "Pred label:  28    Children crossing\n",
      "Name: SignName, dtype: object\n",
      "TopKV2(values=array([[  1.00000000e+00,   8.45667841e-11,   7.24338992e-11,\n",
      "          1.85611665e-11,   6.29774661e-13]], dtype=float32), indices=array([[28, 27, 30, 20, 11]], dtype=int32))\n",
      ">>>>>>>>>>>>>>>>>>>>>>>>>>>>>>>>>>>>>>>>>>>>>>>>>>>>>>>>>>>>\n"
     ]
    },
    {
     "data": {
      "image/png": "[encoded data removed]",
      "text/plain": [
       "<matplotlib.figure.Figure at 0x15f543c88>"
      ]
     },
     "metadata": {},
     "output_type": "display_data"
    },
    {
     "name": "stdout",
     "output_type": "stream",
     "text": [
      "Pred label:  1    Speed limit (30km/h)\n",
      "Name: SignName, dtype: object\n",
      "TopKV2(values=array([[  9.99999642e-01,   3.43473602e-07,   6.82191283e-13,\n",
      "          1.63906884e-16,   3.05550158e-21]], dtype=float32), indices=array([[1, 2, 6, 3, 5]], dtype=int32))\n",
      ">>>>>>>>>>>>>>>>>>>>>>>>>>>>>>>>>>>>>>>>>>>>>>>>>>>>>>>>>>>>\n"
     ]
    },
    {
     "data": {
      "image/png": "[encoded data removed]",
      "text/plain": [
       "<matplotlib.figure.Figure at 0x15fd34cc0>"
      ]
     },
     "metadata": {},
     "output_type": "display_data"
    },
    {
     "name": "stdout",
     "output_type": "stream",
     "text": [
      "Pred label:  11    Right-of-way at the next intersection\n",
      "Name: SignName, dtype: object\n",
      "TopKV2(values=array([[  9.95903432e-01,   4.09660349e-03,   1.63192146e-13,\n",
      "          7.19869246e-15,   3.18951781e-15]], dtype=float32), indices=array([[11, 20, 10, 18, 23]], dtype=int32))\n",
      ">>>>>>>>>>>>>>>>>>>>>>>>>>>>>>>>>>>>>>>>>>>>>>>>>>>>>>>>>>>>\n"
     ]
    }
   ],
   "source": [
    "### Print out the top five softmax probabilities for the predictions on the German traffic sign images found on the web. \n",
    "### Feel free to use as many code cells as needed.\n",
    "\n",
    "label = tf.argmax(logits, 1)\n",
    "sf_prob = tf.nn.softmax(logits)\n",
    "topk = tf.nn.top_k(sf_prob, k=5)\n",
    "\n",
    "with tf.Session() as sess:\n",
    "    saver = tf.train.import_meta_graph('model_rate002_epoch100_grayscale_nm_lenet.meta')\n",
    "    saver.restore(sess,tf.train.latest_checkpoint('./'))\n",
    "    for image in imageList:\n",
    "        plt.imshow(image)\n",
    "        plt.show()        \n",
    "        image = image.reshape((1, image.shape[0], image.shape[1], image.shape[2] ))\n",
    "        \n",
    "        image_gray=grayScale(image)\n",
    "        image_gray_n = (image_gray/128 - 1)\n",
    "        \n",
    "        myLabel = sess.run(label, feed_dict={x: image_gray_n})\n",
    "        test_prob  = sess.run(topk, feed_dict={x: image_gray_n})\n",
    "\n",
    "        print('Pred label: ', data_pd.loc[myLabel]['SignName'])\n",
    "        print (test_prob)\n",
    "        print('>>>>>>>>>>>>>>>>>>>>>>>>>>>>>>>>>>>>>>>>>>>>>>>>>>>>>>>>>>>>')"
   ]
  },
  {
   "cell_type": "markdown",
   "metadata": {},
   "source": [
    "### Analyze Performance"
   ]
  },
  {
   "cell_type": "code",
   "execution_count": null,
   "metadata": {},
   "outputs": [],
   "source": [
    "### Calculate the accuracy for these 5 new images. \n",
    "### For example, if the model predicted 1 out of 5 signs correctly, it's 20% accurate on these new images."
   ]
  },
  {
   "cell_type": "markdown",
   "metadata": {},
   "source": [
    "# Accuracy = 11/13= 84.6%\n",
    "\n",
    "\n",
    "Last image is not in the training dataset, hence it fails to be identified.\n",
    "Last but one image(60 km/hr) is not identified properly as well, possibly because its a zoomed in image."
   ]
  },
  {
   "cell_type": "markdown",
   "metadata": {},
   "source": [
    "### Project Writeup\n",
    "\n",
    "Once you have completed the code implementation, document your results in a project writeup using this [template](https://github.com/udacity/CarND-Traffic-Sign-Classifier-Project/blob/master/writeup_template.md) as a guide. The writeup can be in a markdown or pdf file. "
   ]
  },
  {
   "cell_type": "markdown",
   "metadata": {},
   "source": [
    "> **Note**: Once you have completed all of the code implementations and successfully answered each question above, you may finalize your work by exporting the iPython Notebook as an HTML document. You can do this by using the menu above and navigating to  \\n\",\n",
    "    \"**File -> Download as -> HTML (.html)**. Include the finished document along with this notebook as your submission."
   ]
  },
  {
   "cell_type": "markdown",
   "metadata": {},
   "source": [
    "---\n",
    "\n",
    "## Step 4 (Optional): Visualize the Neural Network's State with Test Images\n",
    "\n",
    " This Section is not required to complete but acts as an additional excersise for understaning the output of a neural network's weights. While neural networks can be a great learning device they are often referred to as a black box. We can understand what the weights of a neural network look like better by plotting their feature maps. After successfully training your neural network you can see what it's feature maps look like by plotting the output of the network's weight layers in response to a test stimuli image. From these plotted feature maps, it's possible to see what characteristics of an image the network finds interesting. For a sign, maybe the inner network feature maps react with high activation to the sign's boundary outline or to the contrast in the sign's painted symbol.\n",
    "\n",
    " Provided for you below is the function code that allows you to get the visualization output of any tensorflow weight layer you want. The inputs to the function should be a stimuli image, one used during training or a new one you provided, and then the tensorflow variable name that represents the layer's state during the training process, for instance if you wanted to see what the [LeNet lab's](https://classroom.udacity.com/nanodegrees/nd013/parts/fbf77062-5703-404e-b60c-95b78b2f3f9e/modules/6df7ae49-c61c-4bb2-a23e-6527e69209ec/lessons/601ae704-1035-4287-8b11-e2c2716217ad/concepts/d4aca031-508f-4e0b-b493-e7b706120f81) feature maps looked like for it's second convolutional layer you could enter conv2 as the tf_activation variable.\n",
    "\n",
    "For an example of what feature map outputs look like, check out NVIDIA's results in their paper [End-to-End Deep Learning for Self-Driving Cars](https://devblogs.nvidia.com/parallelforall/deep-learning-self-driving-cars/) in the section Visualization of internal CNN State. NVIDIA was able to show that their network's inner weights had high activations to road boundary lines by comparing feature maps from an image with a clear path to one without. Try experimenting with a similar test to show that your trained network's weights are looking for interesting features, whether it's looking at differences in feature maps from images with or without a sign, or even what feature maps look like in a trained network vs a completely untrained one on the same sign image.\n",
    "\n",
    "<figure>\n",
    " <img src=\"visualize_cnn.png\" width=\"380\" alt=\"Combined Image\" />\n",
    " <figcaption>\n",
    " <p></p> \n",
    " <p style=\"text-align: center;\"> Your output should look something like this (above)</p> \n",
    " </figcaption>\n",
    "</figure>\n",
    " <p></p> \n"
   ]
  },
  {
   "cell_type": "code",
   "execution_count": null,
   "metadata": {},
   "outputs": [],
   "source": [
    "### Visualize your network's feature maps here.\n",
    "### Feel free to use as many code cells as needed.\n",
    "\n",
    "# image_input: the test image being fed into the network to produce the feature maps\n",
    "# tf_activation: should be a tf variable name used during your training procedure that represents the calculated state of a specific weight layer\n",
    "# activation_min/max: can be used to view the activation contrast in more detail, by default matplot sets min and max to the actual min and max values of the output\n",
    "# plt_num: used to plot out multiple different weight feature map sets on the same block, just extend the plt number for each new feature map entry\n",
    "\n",
    "def outputFeatureMap(image_input, tf_activation, activation_min=-1, activation_max=-1 ,plt_num=1):\n",
    "    # Here make sure to preprocess your image_input in a way your network expects\n",
    "    # with size, normalization, ect if needed\n",
    "    # image_input =\n",
    "    # Note: x should be the same name as your network's tensorflow data placeholder variable\n",
    "    # If you get an error tf_activation is not defined it may be having trouble accessing the variable from inside a function\n",
    "    activation = tf_activation.eval(session=sess,feed_dict={x : image_input})\n",
    "    featuremaps = activation.shape[3]\n",
    "    plt.figure(plt_num, figsize=(15,15))\n",
    "    for featuremap in range(featuremaps):\n",
    "        plt.subplot(6,8, featuremap+1) # sets the number of feature maps to show on each row and column\n",
    "        plt.title('FeatureMap ' + str(featuremap)) # displays the feature map number\n",
    "        if activation_min != -1 & activation_max != -1:\n",
    "            plt.imshow(activation[0,:,:, featuremap], interpolation=\"nearest\", vmin =activation_min, vmax=activation_max, cmap=\"gray\")\n",
    "        elif activation_max != -1:\n",
    "            plt.imshow(activation[0,:,:, featuremap], interpolation=\"nearest\", vmax=activation_max, cmap=\"gray\")\n",
    "        elif activation_min !=-1:\n",
    "            plt.imshow(activation[0,:,:, featuremap], interpolation=\"nearest\", vmin=activation_min, cmap=\"gray\")\n",
    "        else:\n",
    "            plt.imshow(activation[0,:,:, featuremap], interpolation=\"nearest\", cmap=\"gray\")"
   ]
  }
 ],
 "metadata": {
  "anaconda-cloud": {},
  "kernelspec": {
   "display_name": "Python 3",
   "language": "python",
   "name": "python3"
  },
  "language_info": {
   "codemirror_mode": {
    "name": "ipython",
    "version": 3
   },
   "file_extension": ".py",
   "mimetype": "text/x-python",
   "name": "python",
   "nbconvert_exporter": "python",
   "pygments_lexer": "ipython3",
   "version": "3.5.2"
  },
  "widgets": {
   "state": {},
   "version": "1.1.2"
  }
 },
 "nbformat": 4,
 "nbformat_minor": 1
}
