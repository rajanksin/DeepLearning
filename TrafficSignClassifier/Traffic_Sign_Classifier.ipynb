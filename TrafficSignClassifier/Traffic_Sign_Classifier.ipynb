{
 "cells": [
  {
   "cell_type": "markdown",
   "metadata": {},
   "source": [
    "# Self-Driving Car Engineer Nanodegree\n",
    "\n",
    "## Deep Learning\n",
    "\n",
    "## Project: Build a Traffic Sign Recognition Classifier\n",
    "\n",
    "In this notebook, a template is provided for you to implement your functionality in stages, which is required to successfully complete this project. If additional code is required that cannot be included in the notebook, be sure that the Python code is successfully imported and included in your submission if necessary. \n",
    "\n",
    "> **Note**: Once you have completed all of the code implementations, you need to finalize your work by exporting the iPython Notebook as an HTML document. Before exporting the notebook to html, all of the code cells need to have been run so that reviewers can see the final implementation and output. You can then export the notebook by using the menu above and navigating to  \\n\",\n",
    "    \"**File -> Download as -> HTML (.html)**. Include the finished document along with this notebook as your submission. \n",
    "\n",
    "In addition to implementing code, there is a writeup to complete. The writeup should be completed in a separate file, which can be either a markdown file or a pdf document. There is a [write up template](https://github.com/udacity/CarND-Traffic-Sign-Classifier-Project/blob/master/writeup_template.md) that can be used to guide the writing process. Completing the code template and writeup template will cover all of the [rubric points](https://review.udacity.com/#!/rubrics/481/view) for this project.\n",
    "\n",
    "The [rubric](https://review.udacity.com/#!/rubrics/481/view) contains \"Stand Out Suggestions\" for enhancing the project beyond the minimum requirements. The stand out suggestions are optional. If you decide to pursue the \"stand out suggestions\", you can include the code in this Ipython notebook and also discuss the results in the writeup file.\n",
    "\n",
    "\n",
    ">**Note:** Code and Markdown cells can be executed using the **Shift + Enter** keyboard shortcut. In addition, Markdown cells can be edited by typically double-clicking the cell to enter edit mode."
   ]
  },
  {
   "cell_type": "markdown",
   "metadata": {},
   "source": [
    "---\n",
    "## Step 0: Load The Data"
   ]
  },
  {
   "cell_type": "code",
   "execution_count": 1,
   "metadata": {},
   "outputs": [
    {
     "name": "stdout",
     "output_type": "stream",
     "text": [
      "X_train: (34799, 32, 32, 3)\n",
      "y_train: (34799,) <class 'numpy.ndarray'>\n",
      "y_test: (12630,)\n"
     ]
    }
   ],
   "source": [
    "# Load pickled data\n",
    "import pickle\n",
    "\n",
    "# TODO: Fill this in based on where you saved the training and testing data\n",
    "\n",
    "training_file = '../traffic-signs-data/train.p'\n",
    "validation_file= '../traffic-signs-data/valid.p'\n",
    "testing_file = '../traffic-signs-data/test.p'\n",
    "\n",
    "with open(training_file, mode='rb') as f:\n",
    "    train = pickle.load(f)\n",
    "with open(validation_file, mode='rb') as f:\n",
    "    valid = pickle.load(f)\n",
    "with open(testing_file, mode='rb') as f:\n",
    "    test = pickle.load(f) \n",
    "    \n",
    "X_train, y_train = train['features'], train['labels']\n",
    "X_valid, y_valid = valid['features'], valid['labels']\n",
    "X_test, y_test = test['features'], test['labels']\n",
    "\n",
    "print (\"X_train:\", X_train.shape)\n",
    "print (\"y_train:\", y_train.shape, type(y_train))\n",
    "print (\"y_test:\", y_test.shape)\n"
   ]
  },
  {
   "cell_type": "markdown",
   "metadata": {},
   "source": [
    "---\n",
    "\n",
    "## Step 1: Dataset Summary & Exploration\n",
    "\n",
    "The pickled data is a dictionary with 4 key/value pairs:\n",
    "\n",
    "- `'features'` is a 4D array containing raw pixel data of the traffic sign images, (num examples, width, height, channels).\n",
    "- `'labels'` is a 1D array containing the label/class id of the traffic sign. The file `signnames.csv` contains id -> name mappings for each id.\n",
    "- `'sizes'` is a list containing tuples, (width, height) representing the original width and height the image.\n",
    "- `'coords'` is a list containing tuples, (x1, y1, x2, y2) representing coordinates of a bounding box around the sign in the image. **THESE COORDINATES ASSUME THE ORIGINAL IMAGE. THE PICKLED DATA CONTAINS RESIZED VERSIONS (32 by 32) OF THESE IMAGES**\n",
    "\n",
    "Complete the basic data summary below. Use python, numpy and/or pandas methods to calculate the data summary rather than hard coding the results. For example, the [pandas shape method](http://pandas.pydata.org/pandas-docs/stable/generated/pandas.DataFrame.shape.html) might be useful for calculating some of the summary results. "
   ]
  },
  {
   "cell_type": "markdown",
   "metadata": {},
   "source": [
    "### Provide a Basic Summary of the Data Set Using Python, Numpy and/or Pandas"
   ]
  },
  {
   "cell_type": "code",
   "execution_count": 2,
   "metadata": {},
   "outputs": [
    {
     "name": "stdout",
     "output_type": "stream",
     "text": [
      "Number of training examples = 34799\n",
      "Number of testing examples = 12630\n",
      "Image data shape = (32, 32, 3)\n",
      "Number of classes = 43\n",
      "<class 'numpy.ndarray'>\n"
     ]
    }
   ],
   "source": [
    "### Replace each question mark with the appropriate value. \n",
    "### Use python, pandas or numpy methods rather than hard coding the results\n",
    "import numpy as np\n",
    "# TODO: Number of training examples\n",
    "n_train = y_train.shape[0]\n",
    "\n",
    "# TODO: Number of validation examples\n",
    "n_validation = y_valid.shape[0]\n",
    "\n",
    "# TODO: Number of testing examples.\n",
    "n_test = y_test.shape[0]\n",
    "\n",
    "# TODO: What's the shape of an traffic sign image?\n",
    "image_shape = X_train.shape[1:]\n",
    "\n",
    "# TODO: How many unique classes/labels there are in the dataset.\n",
    "allLabels= np.concatenate([y_train, y_valid, y_test], axis=0)\n",
    "n_classes = np.unique(allLabels).shape[0]\n",
    "\n",
    "print(\"Number of training examples =\", n_train)\n",
    "print(\"Number of testing examples =\", n_test)\n",
    "print(\"Image data shape =\", image_shape)\n",
    "print(\"Number of classes =\", n_classes)\n",
    "\n",
    "print(type(X_train))"
   ]
  },
  {
   "cell_type": "markdown",
   "metadata": {},
   "source": [
    "### Include an exploratory visualization of the dataset"
   ]
  },
  {
   "cell_type": "markdown",
   "metadata": {},
   "source": [
    "Visualize the German Traffic Signs Dataset using the pickled file(s). This is open ended, suggestions include: plotting traffic sign images, plotting the count of each sign, etc. \n",
    "\n",
    "The [Matplotlib](http://matplotlib.org/) [examples](http://matplotlib.org/examples/index.html) and [gallery](http://matplotlib.org/gallery.html) pages are a great resource for doing visualizations in Python.\n",
    "\n",
    "**NOTE:** It's recommended you start with something simple first. If you wish to do more, come back to it after you've completed the rest of the sections. It can be interesting to look at the distribution of classes in the training, validation and test set. Is the distribution the same? Are there more examples of some classes than others?"
   ]
  },
  {
   "cell_type": "code",
   "execution_count": 3,
   "metadata": {},
   "outputs": [
    {
     "name": "stdout",
     "output_type": "stream",
     "text": [
      "13\n"
     ]
    },
    {
     "data": {
      "image/png": "[encoded data removed]",
      "text/plain": [
       "<matplotlib.figure.Figure at 0x111c99d68>"
      ]
     },
     "metadata": {},
     "output_type": "display_data"
    }
   ],
   "source": [
    "### Data exploration visualization code goes here.\n",
    "### Feel free to use as many code cells as needed.\n",
    "import matplotlib.pyplot as plt\n",
    "import random\n",
    "# Visualizations will be shown in the notebook.\n",
    "%matplotlib inline\n",
    "\n",
    "index = random.randint(0, len(X_train))\n",
    "image = X_train[index].squeeze()\n",
    "\n",
    "plt.figure(figsize=(1,1))\n",
    "plt.imshow(image)\n",
    "print(y_train[index])"
   ]
  },
  {
   "cell_type": "markdown",
   "metadata": {},
   "source": [
    "----\n",
    "\n",
    "## Step 2: Design and Test a Model Architecture\n",
    "\n",
    "Design and implement a deep learning model that learns to recognize traffic signs. Train and test your model on the [German Traffic Sign Dataset](http://benchmark.ini.rub.de/?section=gtsrb&subsection=dataset).\n",
    "\n",
    "The LeNet-5 implementation shown in the [classroom](https://classroom.udacity.com/nanodegrees/nd013/parts/fbf77062-5703-404e-b60c-95b78b2f3f9e/modules/6df7ae49-c61c-4bb2-a23e-6527e69209ec/lessons/601ae704-1035-4287-8b11-e2c2716217ad/concepts/d4aca031-508f-4e0b-b493-e7b706120f81) at the end of the CNN lesson is a solid starting point. You'll have to change the number of classes and possibly the preprocessing, but aside from that it's plug and play! \n",
    "\n",
    "With the LeNet-5 solution from the lecture, you should expect a validation set accuracy of about 0.89. To meet specifications, the validation set accuracy will need to be at least 0.93. It is possible to get an even higher accuracy, but 0.93 is the minimum for a successful project submission. \n",
    "\n",
    "There are various aspects to consider when thinking about this problem:\n",
    "\n",
    "- Neural network architecture (is the network over or underfitting?)\n",
    "- Play around preprocessing techniques (normalization, rgb to grayscale, etc)\n",
    "- Number of examples per label (some have more than others).\n",
    "- Generate fake data.\n",
    "\n",
    "Here is an example of a [published baseline model on this problem](http://yann.lecun.com/exdb/publis/pdf/sermanet-ijcnn-11.pdf). It's not required to be familiar with the approach used in the paper but, it's good practice to try to read papers like these."
   ]
  },
  {
   "cell_type": "markdown",
   "metadata": {},
   "source": [
    "### Pre-process the Data Set (normalization, grayscale, etc.)"
   ]
  },
  {
   "cell_type": "markdown",
   "metadata": {},
   "source": [
    "Minimally, the image data should be normalized so that the data has mean zero and equal variance. For image data, `(pixel - 128)/ 128` is a quick way to approximately normalize the data and can be used in this project. \n",
    "\n",
    "Other pre-processing steps are optional. You can try different techniques to see if it improves performance. \n",
    "\n",
    "Use the code cell (or multiple code cells, if necessary) to implement the first step of your project."
   ]
  },
  {
   "cell_type": "code",
   "execution_count": 4,
   "metadata": {
    "collapsed": true
   },
   "outputs": [],
   "source": [
    "def grayScale(x):\n",
    "    x = 0.299 * x[:, :, :, 0] + 0.587 * x[:, :, :, 1] + 0.114 * x[:, :, :, 2]\n",
    "    return x.reshape((x.shape[0], x.shape[1], x.shape[2],1))"
   ]
  },
  {
   "cell_type": "code",
   "execution_count": 5,
   "metadata": {},
   "outputs": [
    {
     "name": "stdout",
     "output_type": "stream",
     "text": [
      "<class 'numpy.ndarray'>\n",
      "(34799, 32, 32, 3)\n",
      "(4410, 32, 32, 1)\n"
     ]
    }
   ],
   "source": [
    "### Preprocess the data here. It is required to normalize the data. Other preprocessing steps could include \n",
    "### converting to grayscale, etc.\n",
    "### Feel free to use as many code cells as needed.\n",
    "print(type(X_train))\n",
    "\n",
    "print(X_train.shape)\n",
    "X_train = grayScale(X_train)\n",
    "X_valid = grayScale(X_valid)\n",
    "X_test  = grayScale(X_test)\n",
    "\n",
    "print(X_valid.shape)\n",
    "\n",
    "X_train = (X_train/128 - 1)\n",
    "X_valid = (X_valid/128 - 1)\n",
    "X_test = (X_test/128 - 1)\n",
    "\n",
    "\n",
    "    "
   ]
  },
  {
   "cell_type": "markdown",
   "metadata": {},
   "source": [
    "### Model Architecture"
   ]
  },
  {
   "cell_type": "code",
   "execution_count": 6,
   "metadata": {
    "collapsed": true
   },
   "outputs": [],
   "source": [
    "from sklearn.utils import shuffle\n",
    "\n",
    "X_train, y_train = shuffle(X_train, y_train)"
   ]
  },
  {
   "cell_type": "code",
   "execution_count": 7,
   "metadata": {
    "collapsed": true
   },
   "outputs": [],
   "source": [
    "import tensorflow as tf\n",
    "\n",
    "rate = 0.002\n",
    "EPOCHS = 100\n",
    "BATCH_SIZE = 256\n",
    "DROPOUT = 0.5\n",
    "layer1_output = 0\n",
    "sliceCount = X_train.shape[3]"
   ]
  },
  {
   "cell_type": "code",
   "execution_count": 8,
   "metadata": {
    "collapsed": true
   },
   "outputs": [],
   "source": [
    "### Define your architecture here.\n",
    "### Feel free to use as many code cells as needed.\n",
    "from tensorflow.contrib.layers import flatten\n",
    "\n",
    "def LeNet(x):    \n",
    "    # Arguments used for tf.truncated_normal, randomly defines variables for the weights and biases for each layer\n",
    "    mu = 0\n",
    "    sigma = 0.1\n",
    "    \n",
    "    print(\"X:\",x.get_shape())\n",
    "    # TODO: Layer 1: Convolutional. Input = 32x32x1. Output = 28x28x6.\n",
    "    F_W1 = tf.Variable(tf.random_normal([5, 5, sliceCount, 20], mean=mu, stddev=sigma))\n",
    "    F_b1 = tf.Variable(tf.zeros(20))\n",
    "    \n",
    "    print(\"F_W1\",F_W1)\n",
    "    strides = [1,1,1,1]\n",
    "    padding = 'VALID'\n",
    "    layer1_output = tf.nn.conv2d(x, F_W1, strides, padding) + F_b1\n",
    "    \n",
    "    print(\"layer1_output\", layer1_output)\n",
    "    # TODO: Activation.\n",
    "    layer1_output_relu = tf.nn.relu(layer1_output)\n",
    "    \n",
    "    print(\"relu_layer1_output\", layer1_output)\n",
    "\n",
    "    # TODO: Pooling. Input = 28x28x6. Output = 14x14x6.\n",
    "    filter_shape = [1, 2, 2, 1]\n",
    "    strides = [1, 2, 2, 1]\n",
    "    padding = 'VALID'\n",
    "    pool1 = tf.nn.max_pool(layer1_output_relu, filter_shape, strides, padding)\n",
    "    \n",
    "    print(\"pool1:\", pool1)\n",
    "    pool1 = tf.nn.dropout(pool1, 0.9)\n",
    "\n",
    "    # TODO: Layer 2: Convolutional. Output = 10x10x16.\n",
    "    F_W2 = tf.Variable(tf.random_normal([5, 5, 20, 36], mean=mu, stddev=sigma))\n",
    "    F_b2 = tf.Variable(tf.zeros(36))\n",
    "    strides = [1,1,1,1]\n",
    "    padding = 'VALID'\n",
    "    layer2_output = tf.nn.conv2d(pool1, F_W2, strides, padding) + F_b2\n",
    "    \n",
    "    print(\"layer2_output:\", layer2_output)\n",
    "    \n",
    "    # TODO: Activation.\n",
    "    layer2_output_relu = tf.nn.relu(layer2_output)\n",
    "    print(\"layer2_output_relu:\", layer2_output_relu)\n",
    "\n",
    "    # TODO: Pooling. Input = 10x10x16. Output = 5x5x16.\n",
    "    filter_shape = [1, 2, 2, 1]\n",
    "    strides = [1, 2, 2, 1]\n",
    "    pool2 = tf.nn.max_pool(layer2_output_relu, filter_shape, strides, padding)\n",
    "\n",
    "    print(\"pool2:\", pool2)\n",
    "    \n",
    "    pool2 = tf.nn.dropout(pool2, 0.8)\n",
    "    # TODO: Flatten. Input = 5x5x16. Output = 400.\n",
    "    layer2_output_flatten = flatten(pool2)#tf.reshape(pool2, [-1, 400])\n",
    "    print(\"layer2_output_flatten: \", layer2_output_flatten)\n",
    "    \n",
    "    \n",
    "    # TODO: Layer 3: Fully Connected. Input = 400. Output = 120.\n",
    "    fc_wd1 = tf.Variable(tf.random_normal([900,360],mean=mu, stddev=sigma))\n",
    "    fc_bias1 = tf.Variable(tf.zeros(360))\n",
    "    FC_layer1= tf.add(tf.matmul(layer2_output_flatten, fc_wd1),fc_bias1)\n",
    "    \n",
    "    # TODO: Activation.\n",
    "    FC_output1= tf.nn.relu(FC_layer1)\n",
    "    \n",
    "    FC_output1 = tf.nn.dropout(FC_output1, 0.7)\n",
    "\n",
    "    # TODO: Layer 4: Fully Connected. Input = 120. Output = 84.\n",
    "    fc_wd2 = tf.Variable(tf.random_normal([360,200],mean=mu, stddev=sigma))\n",
    "    fc_bias2 = tf.Variable(tf.zeros(200))\n",
    "    FC_layer2= tf.add(tf.matmul(FC_output1, fc_wd2),fc_bias2)\n",
    "    \n",
    "    # TODO: Activation.\n",
    "    FC_output2= tf.nn.relu(FC_layer2)\n",
    "\n",
    "    # TODO: Layer 5: Fully Connected. Input = 84. Output = 10.\n",
    "    fc_wd3   = tf.Variable(tf.random_normal([200,84],mean=mu, stddev=sigma))\n",
    "    fc_bias3 = tf.Variable(tf.zeros(84))\n",
    "    FC_layer3   = tf.add(tf.matmul(FC_output2, fc_wd3),fc_bias3)\n",
    "    # TODO: Activation.\n",
    "    FC_output3= tf.nn.relu(FC_layer3)\n",
    "    \n",
    "    # TODO: Layer 6: Fully Connected. Input = 84. Output = 10.\n",
    "    fc_wd4   = tf.Variable(tf.random_normal([84,n_classes],mean=mu, stddev=sigma))\n",
    "    fc_bias4 = tf.Variable(tf.zeros(n_classes))\n",
    "    FC_output4 = tf.nn.dropout(FC_output3, 0.5)\n",
    "    logits   = tf.add(tf.matmul(FC_output4, fc_wd4),fc_bias4)\n",
    "    \n",
    "    return logits"
   ]
  },
  {
   "cell_type": "markdown",
   "metadata": {},
   "source": [
    "### Train, Validate and Test the Model"
   ]
  },
  {
   "cell_type": "markdown",
   "metadata": {},
   "source": [
    "A validation set can be used to assess how well the model is performing. A low accuracy on the training and validation\n",
    "sets imply underfitting. A high accuracy on the training set but low accuracy on the validation set implies overfitting."
   ]
  },
  {
   "cell_type": "code",
   "execution_count": null,
   "metadata": {
    "collapsed": true
   },
   "outputs": [],
   "source": []
  },
  {
   "cell_type": "code",
   "execution_count": 9,
   "metadata": {
    "collapsed": true
   },
   "outputs": [],
   "source": [
    "### Train your model here.\n",
    "### Calculate and report the accuracy on the training and validation set.\n",
    "### Once a final model architecture is selected, \n",
    "### the accuracy on the test set should be calculated and reported as well.\n",
    "### Feel free to use as many code cells as needed.\n",
    "x = tf.placeholder(tf.float32, (None, 32, 32, sliceCount))\n",
    "y = tf.placeholder(tf.int32, (None))\n",
    "one_hot_y = tf.one_hot(y, n_classes)"
   ]
  },
  {
   "cell_type": "code",
   "execution_count": 10,
   "metadata": {},
   "outputs": [
    {
     "name": "stdout",
     "output_type": "stream",
     "text": [
      "X: (?, 32, 32, 1)\n",
      "F_W1 Tensor(\"Variable/read:0\", shape=(5, 5, 1, 20), dtype=float32)\n",
      "layer1_output Tensor(\"add:0\", shape=(?, 28, 28, 20), dtype=float32)\n",
      "relu_layer1_output Tensor(\"add:0\", shape=(?, 28, 28, 20), dtype=float32)\n",
      "pool1: Tensor(\"MaxPool:0\", shape=(?, 14, 14, 20), dtype=float32)\n",
      "layer2_output: Tensor(\"add_1:0\", shape=(?, 10, 10, 36), dtype=float32)\n",
      "layer2_output_relu: Tensor(\"Relu_1:0\", shape=(?, 10, 10, 36), dtype=float32)\n",
      "pool2: Tensor(\"MaxPool_1:0\", shape=(?, 5, 5, 36), dtype=float32)\n",
      "layer2_output_flatten:  Tensor(\"Flatten/Reshape:0\", shape=(?, 900), dtype=float32)\n"
     ]
    }
   ],
   "source": [
    "\n",
    "logits = LeNet(x)\n",
    "cross_entropy = tf.nn.softmax_cross_entropy_with_logits(labels=one_hot_y, logits=logits)\n",
    "loss_operation = tf.reduce_mean(cross_entropy)\n",
    "optimizer = tf.train.AdamOptimizer(learning_rate = rate)\n",
    "training_operation = optimizer.minimize(loss_operation)"
   ]
  },
  {
   "cell_type": "code",
   "execution_count": 29,
   "metadata": {
    "collapsed": true
   },
   "outputs": [],
   "source": [
    "correct_prediction = tf.equal(tf.argmax(logits, 1), tf.argmax(one_hot_y, 1))\n",
    "accuracy_operation = tf.reduce_mean(tf.cast(correct_prediction, tf.float32))\n",
    "saver = tf.train.Saver()\n",
    "\n",
    "def evaluate(X_data, y_data):\n",
    "    num_examples = len(X_data)\n",
    "    total_accuracy = 0\n",
    "    sess = tf.get_default_session()\n",
    "    for offset in range(0, num_examples, BATCH_SIZE):\n",
    "        batch_x, batch_y = X_data[offset:offset+BATCH_SIZE], y_data[offset:offset+BATCH_SIZE]\n",
    "        accuracy = sess.run(accuracy_operation, feed_dict={x: batch_x, y: batch_y})\n",
    "        total_accuracy += (accuracy * len(batch_x))\n",
    "    return total_accuracy / num_examples"
   ]
  },
  {
   "cell_type": "code",
   "execution_count": 30,
   "metadata": {},
   "outputs": [
    {
     "name": "stdout",
     "output_type": "stream",
     "text": [
      "Training...\n",
      "\n",
      "EPOCH 1 ...\n",
      "Validation Accuracy = 0.479\n",
      "\n",
      "EPOCH 2 ...\n",
      "Validation Accuracy = 0.708\n",
      "\n",
      "EPOCH 3 ...\n",
      "Validation Accuracy = 0.778\n",
      "\n",
      "EPOCH 4 ...\n",
      "Validation Accuracy = 0.838\n",
      "\n",
      "EPOCH 5 ...\n",
      "Validation Accuracy = 0.868\n",
      "\n",
      "EPOCH 6 ...\n",
      "Validation Accuracy = 0.883\n",
      "\n",
      "EPOCH 7 ...\n",
      "Validation Accuracy = 0.885\n",
      "\n",
      "EPOCH 8 ...\n",
      "Validation Accuracy = 0.900\n",
      "\n",
      "EPOCH 9 ...\n",
      "Validation Accuracy = 0.905\n",
      "\n",
      "EPOCH 10 ...\n",
      "Validation Accuracy = 0.912\n",
      "\n",
      "EPOCH 11 ...\n",
      "Validation Accuracy = 0.922\n",
      "\n",
      "EPOCH 12 ...\n",
      "Validation Accuracy = 0.919\n",
      "\n",
      "EPOCH 13 ...\n",
      "Validation Accuracy = 0.910\n",
      "\n",
      "EPOCH 14 ...\n",
      "Validation Accuracy = 0.930\n",
      "\n",
      "EPOCH 15 ...\n",
      "Validation Accuracy = 0.927\n",
      "\n",
      "EPOCH 16 ...\n",
      "Validation Accuracy = 0.934\n",
      "\n",
      "EPOCH 17 ...\n",
      "Validation Accuracy = 0.919\n",
      "\n",
      "EPOCH 18 ...\n",
      "Validation Accuracy = 0.932\n",
      "\n",
      "EPOCH 19 ...\n",
      "Validation Accuracy = 0.935\n",
      "\n",
      "EPOCH 20 ...\n",
      "Validation Accuracy = 0.927\n",
      "\n",
      "EPOCH 21 ...\n",
      "Validation Accuracy = 0.927\n",
      "\n",
      "EPOCH 22 ...\n",
      "Validation Accuracy = 0.934\n",
      "\n",
      "EPOCH 23 ...\n",
      "Validation Accuracy = 0.933\n",
      "\n",
      "EPOCH 24 ...\n",
      "Validation Accuracy = 0.918\n",
      "\n",
      "EPOCH 25 ...\n",
      "Validation Accuracy = 0.921\n",
      "\n",
      "EPOCH 26 ...\n",
      "Validation Accuracy = 0.933\n",
      "\n",
      "EPOCH 27 ...\n",
      "Validation Accuracy = 0.937\n",
      "\n",
      "EPOCH 28 ...\n",
      "Validation Accuracy = 0.930\n",
      "\n",
      "EPOCH 29 ...\n",
      "Validation Accuracy = 0.944\n",
      "\n",
      "EPOCH 30 ...\n",
      "Validation Accuracy = 0.934\n",
      "\n",
      "EPOCH 31 ...\n",
      "Validation Accuracy = 0.929\n",
      "\n",
      "EPOCH 32 ...\n",
      "Validation Accuracy = 0.932\n",
      "\n",
      "EPOCH 33 ...\n",
      "Validation Accuracy = 0.932\n",
      "\n",
      "EPOCH 34 ...\n",
      "Validation Accuracy = 0.927\n",
      "\n",
      "EPOCH 35 ...\n",
      "Validation Accuracy = 0.934\n",
      "\n",
      "EPOCH 36 ...\n",
      "Validation Accuracy = 0.927\n",
      "\n",
      "EPOCH 37 ...\n",
      "Validation Accuracy = 0.930\n",
      "\n",
      "EPOCH 38 ...\n",
      "Validation Accuracy = 0.937\n",
      "\n",
      "EPOCH 39 ...\n",
      "Validation Accuracy = 0.927\n",
      "\n",
      "EPOCH 40 ...\n",
      "Validation Accuracy = 0.947\n",
      "\n",
      "EPOCH 41 ...\n",
      "Validation Accuracy = 0.941\n",
      "\n",
      "EPOCH 42 ...\n",
      "Validation Accuracy = 0.937\n",
      "\n",
      "EPOCH 43 ...\n",
      "Validation Accuracy = 0.931\n",
      "\n",
      "EPOCH 44 ...\n",
      "Validation Accuracy = 0.935\n",
      "\n",
      "EPOCH 45 ...\n",
      "Validation Accuracy = 0.932\n",
      "\n",
      "EPOCH 46 ...\n",
      "Validation Accuracy = 0.936\n",
      "\n",
      "EPOCH 47 ...\n",
      "Validation Accuracy = 0.930\n",
      "\n",
      "EPOCH 48 ...\n",
      "Validation Accuracy = 0.933\n",
      "\n",
      "EPOCH 49 ...\n",
      "Validation Accuracy = 0.937\n",
      "\n",
      "EPOCH 50 ...\n",
      "Validation Accuracy = 0.929\n",
      "\n",
      "EPOCH 51 ...\n",
      "Validation Accuracy = 0.939\n",
      "\n",
      "EPOCH 52 ...\n",
      "Validation Accuracy = 0.933\n",
      "\n",
      "EPOCH 53 ...\n",
      "Validation Accuracy = 0.936\n",
      "\n",
      "EPOCH 54 ...\n",
      "Validation Accuracy = 0.947\n",
      "\n",
      "EPOCH 55 ...\n",
      "Validation Accuracy = 0.928\n",
      "\n",
      "EPOCH 56 ...\n",
      "Validation Accuracy = 0.945\n",
      "\n",
      "EPOCH 57 ...\n",
      "Validation Accuracy = 0.937\n",
      "\n",
      "EPOCH 58 ...\n",
      "Validation Accuracy = 0.948\n",
      "\n",
      "EPOCH 59 ...\n",
      "Validation Accuracy = 0.947\n",
      "\n",
      "EPOCH 60 ...\n",
      "Validation Accuracy = 0.937\n",
      "\n",
      "EPOCH 61 ...\n",
      "Validation Accuracy = 0.918\n",
      "\n",
      "EPOCH 62 ...\n",
      "Validation Accuracy = 0.937\n",
      "\n",
      "EPOCH 63 ...\n",
      "Validation Accuracy = 0.947\n",
      "\n",
      "EPOCH 64 ...\n",
      "Validation Accuracy = 0.926\n",
      "\n",
      "EPOCH 65 ...\n",
      "Validation Accuracy = 0.946\n",
      "\n",
      "EPOCH 66 ...\n",
      "Validation Accuracy = 0.944\n",
      "\n",
      "EPOCH 67 ...\n",
      "Validation Accuracy = 0.936\n",
      "\n",
      "EPOCH 68 ...\n",
      "Validation Accuracy = 0.933\n",
      "\n",
      "EPOCH 69 ...\n",
      "Validation Accuracy = 0.922\n",
      "\n",
      "EPOCH 70 ...\n",
      "Validation Accuracy = 0.927\n",
      "\n",
      "EPOCH 71 ...\n",
      "Validation Accuracy = 0.936\n",
      "\n",
      "EPOCH 72 ...\n",
      "Validation Accuracy = 0.933\n",
      "\n",
      "EPOCH 73 ...\n",
      "Validation Accuracy = 0.941\n",
      "\n",
      "EPOCH 74 ...\n",
      "Validation Accuracy = 0.932\n",
      "\n",
      "EPOCH 75 ...\n",
      "Validation Accuracy = 0.937\n",
      "\n",
      "EPOCH 76 ...\n",
      "Validation Accuracy = 0.950\n",
      "\n",
      "EPOCH 77 ...\n",
      "Validation Accuracy = 0.939\n",
      "\n",
      "EPOCH 78 ...\n",
      "Validation Accuracy = 0.944\n",
      "\n",
      "EPOCH 79 ...\n",
      "Validation Accuracy = 0.939\n",
      "\n",
      "EPOCH 80 ...\n",
      "Validation Accuracy = 0.932\n",
      "\n",
      "EPOCH 81 ...\n",
      "Validation Accuracy = 0.942\n",
      "\n",
      "EPOCH 82 ...\n",
      "Validation Accuracy = 0.932\n",
      "\n",
      "EPOCH 83 ...\n",
      "Validation Accuracy = 0.937\n",
      "\n",
      "EPOCH 84 ...\n",
      "Validation Accuracy = 0.927\n",
      "\n",
      "EPOCH 85 ...\n",
      "Validation Accuracy = 0.937\n",
      "\n",
      "EPOCH 86 ...\n",
      "Validation Accuracy = 0.934\n",
      "\n",
      "EPOCH 87 ...\n",
      "Validation Accuracy = 0.937\n",
      "\n",
      "EPOCH 88 ...\n",
      "Validation Accuracy = 0.932\n",
      "\n",
      "EPOCH 89 ...\n",
      "Validation Accuracy = 0.936\n",
      "\n",
      "EPOCH 90 ...\n",
      "Validation Accuracy = 0.917\n",
      "\n",
      "EPOCH 91 ...\n",
      "Validation Accuracy = 0.920\n",
      "\n",
      "EPOCH 92 ...\n",
      "Validation Accuracy = 0.939\n",
      "\n",
      "EPOCH 93 ...\n",
      "Validation Accuracy = 0.932\n",
      "\n",
      "EPOCH 94 ...\n",
      "Validation Accuracy = 0.929\n",
      "\n",
      "EPOCH 95 ...\n",
      "Validation Accuracy = 0.935\n",
      "\n",
      "EPOCH 96 ...\n",
      "Validation Accuracy = 0.939\n",
      "\n",
      "EPOCH 97 ...\n",
      "Validation Accuracy = 0.936\n",
      "\n",
      "EPOCH 98 ...\n",
      "Validation Accuracy = 0.945\n",
      "\n",
      "EPOCH 99 ...\n",
      "Validation Accuracy = 0.915\n",
      "\n",
      "EPOCH 100 ...\n",
      "Validation Accuracy = 0.934\n",
      "\n",
      "Model saved\n"
     ]
    }
   ],
   "source": [
    "with tf.Session() as sess:\n",
    "    sess.run(tf.global_variables_initializer())\n",
    "    num_examples = len(X_train)\n",
    "    \n",
    "    print(\"Training...\")\n",
    "    print()\n",
    "    for i in range(EPOCHS):\n",
    "        X_train, y_train = shuffle(X_train, y_train)\n",
    "        for offset in range(0, num_examples, BATCH_SIZE):\n",
    "            end = offset + BATCH_SIZE\n",
    "            batch_x, batch_y = X_train[offset:end], y_train[offset:end]\n",
    "            sess.run(training_operation, feed_dict={x: batch_x, y: batch_y})\n",
    "            \n",
    "        validation_accuracy = evaluate(X_valid, y_valid)\n",
    "        print(\"EPOCH {} ...\".format(i+1))\n",
    "        print(\"Validation Accuracy = {:.3f}\".format(validation_accuracy))\n",
    "        print()\n",
    "        \n",
    "    saver.save(sess, './rajan_lenet')\n",
    "    print(\"Model saved\")"
   ]
  },
  {
   "cell_type": "markdown",
   "metadata": {},
   "source": [
    "---\n",
    "\n",
    "## Step 3: Test a Model on New Images\n",
    "\n",
    "To give yourself more insight into how your model is working, download at least five pictures of German traffic signs from the web and use your model to predict the traffic sign type.\n",
    "\n",
    "You may find `signnames.csv` useful as it contains mappings from the class id (integer) to the actual sign name."
   ]
  },
  {
   "cell_type": "markdown",
   "metadata": {},
   "source": [
    "### Load and Output the Images"
   ]
  },
  {
   "cell_type": "code",
   "execution_count": 2,
   "metadata": {
    "collapsed": true
   },
   "outputs": [],
   "source": [
    "import matplotlib.pyplot as plt\n",
    "import numpy as np\n",
    "import tensorflow as tf\n",
    "# Visualizations will be shown in the notebook.\n",
    "%matplotlib inline"
   ]
  },
  {
   "cell_type": "code",
   "execution_count": 4,
   "metadata": {},
   "outputs": [
    {
     "ename": "ValueError",
     "evalue": "No variables to save",
     "output_type": "error",
     "traceback": [
      "\u001b[0;31m---------------------------------------------------------------------------\u001b[0m",
      "\u001b[0;31mValueError\u001b[0m                                Traceback (most recent call last)",
      "\u001b[0;32m<ipython-input-4-362ed8541987>\u001b[0m in \u001b[0;36m<module>\u001b[0;34m()\u001b[0m\n\u001b[1;32m      5\u001b[0m \u001b[0;34m\u001b[0m\u001b[0m\n\u001b[1;32m      6\u001b[0m \u001b[0;32mwith\u001b[0m \u001b[0mtf\u001b[0m\u001b[0;34m.\u001b[0m\u001b[0mSession\u001b[0m\u001b[0;34m(\u001b[0m\u001b[0;34m)\u001b[0m \u001b[0;32mas\u001b[0m \u001b[0msess\u001b[0m\u001b[0;34m:\u001b[0m\u001b[0;34m\u001b[0m\u001b[0m\n\u001b[0;32m----> 7\u001b[0;31m     \u001b[0msaver\u001b[0m \u001b[0;34m=\u001b[0m \u001b[0mtf\u001b[0m\u001b[0;34m.\u001b[0m\u001b[0mtrain\u001b[0m\u001b[0;34m.\u001b[0m\u001b[0mSaver\u001b[0m\u001b[0;34m(\u001b[0m\u001b[0;34m)\u001b[0m\u001b[0;34m\u001b[0m\u001b[0m\n\u001b[0m\u001b[1;32m      8\u001b[0m     \u001b[0msaver\u001b[0m\u001b[0;34m.\u001b[0m\u001b[0mrestore\u001b[0m\u001b[0;34m(\u001b[0m\u001b[0msess\u001b[0m\u001b[0;34m,\u001b[0m \u001b[0;34m\"./rajan_lenet\"\u001b[0m\u001b[0;34m)\u001b[0m\u001b[0;34m\u001b[0m\u001b[0m\n\u001b[1;32m      9\u001b[0m \u001b[0;31m#     saver = tf.train.import_meta_graph('rajan_lenet.meta')\u001b[0m\u001b[0;34m\u001b[0m\u001b[0;34m\u001b[0m\u001b[0m\n",
      "\u001b[0;32m/Volumes/Data/udacity/miniconda3/envs/carnd-term1/lib/python3.5/site-packages/tensorflow/python/training/saver.py\u001b[0m in \u001b[0;36m__init__\u001b[0;34m(self, var_list, reshape, sharded, max_to_keep, keep_checkpoint_every_n_hours, name, restore_sequentially, saver_def, builder, defer_build, allow_empty, write_version, pad_step_number)\u001b[0m\n\u001b[1;32m    998\u001b[0m     \u001b[0mself\u001b[0m\u001b[0;34m.\u001b[0m\u001b[0m_pad_step_number\u001b[0m \u001b[0;34m=\u001b[0m \u001b[0mpad_step_number\u001b[0m\u001b[0;34m\u001b[0m\u001b[0m\n\u001b[1;32m    999\u001b[0m     \u001b[0;32mif\u001b[0m \u001b[0;32mnot\u001b[0m \u001b[0mdefer_build\u001b[0m\u001b[0;34m:\u001b[0m\u001b[0;34m\u001b[0m\u001b[0m\n\u001b[0;32m-> 1000\u001b[0;31m       \u001b[0mself\u001b[0m\u001b[0;34m.\u001b[0m\u001b[0mbuild\u001b[0m\u001b[0;34m(\u001b[0m\u001b[0;34m)\u001b[0m\u001b[0;34m\u001b[0m\u001b[0m\n\u001b[0m\u001b[1;32m   1001\u001b[0m     \u001b[0;32mif\u001b[0m \u001b[0mself\u001b[0m\u001b[0;34m.\u001b[0m\u001b[0msaver_def\u001b[0m\u001b[0;34m:\u001b[0m\u001b[0;34m\u001b[0m\u001b[0m\n\u001b[1;32m   1002\u001b[0m       \u001b[0mself\u001b[0m\u001b[0;34m.\u001b[0m\u001b[0m_check_saver_def\u001b[0m\u001b[0;34m(\u001b[0m\u001b[0;34m)\u001b[0m\u001b[0;34m\u001b[0m\u001b[0m\n",
      "\u001b[0;32m/Volumes/Data/udacity/miniconda3/envs/carnd-term1/lib/python3.5/site-packages/tensorflow/python/training/saver.py\u001b[0m in \u001b[0;36mbuild\u001b[0;34m(self)\u001b[0m\n\u001b[1;32m   1019\u001b[0m           \u001b[0;32mreturn\u001b[0m\u001b[0;34m\u001b[0m\u001b[0m\n\u001b[1;32m   1020\u001b[0m         \u001b[0;32melse\u001b[0m\u001b[0;34m:\u001b[0m\u001b[0;34m\u001b[0m\u001b[0m\n\u001b[0;32m-> 1021\u001b[0;31m           \u001b[0;32mraise\u001b[0m \u001b[0mValueError\u001b[0m\u001b[0;34m(\u001b[0m\u001b[0;34m\"No variables to save\"\u001b[0m\u001b[0;34m)\u001b[0m\u001b[0;34m\u001b[0m\u001b[0m\n\u001b[0m\u001b[1;32m   1022\u001b[0m       \u001b[0mself\u001b[0m\u001b[0;34m.\u001b[0m\u001b[0m_is_empty\u001b[0m \u001b[0;34m=\u001b[0m \u001b[0;32mFalse\u001b[0m\u001b[0;34m\u001b[0m\u001b[0m\n\u001b[1;32m   1023\u001b[0m       self.saver_def = self._builder.build(\n",
      "\u001b[0;31mValueError\u001b[0m: No variables to save"
     ]
    }
   ],
   "source": [
    "### Load the images and plot them here.\n",
    "### Feel free to use as many code cells as needed.\n",
    "tf.reset_default_graph()\n",
    "\n",
    "\n",
    "with tf.Session() as sess:\n",
    "    saver = tf.train.Saver()\n",
    "    saver.restore(sess, \"./rajan_lenet\")\n",
    "#     saver = tf.train.import_meta_graph('rajan_lenet.meta')\n",
    "#     saver.restore(sess,tf.train.latest_checkpoint('./'))\n",
    "    test_accuracy = evaluate(X_test, y_test)\n",
    "\n",
    "print(\"test Accuracy = {:.3f}\".format(test_accuracy))\n",
    "    "
   ]
  },
  {
   "cell_type": "markdown",
   "metadata": {},
   "source": [
    "### Predict the Sign Type for Each Image"
   ]
  },
  {
   "cell_type": "code",
   "execution_count": 35,
   "metadata": {},
   "outputs": [
    {
     "name": "stdout",
     "output_type": "stream",
     "text": [
      "0.png\n",
      "1.png\n",
      "2.png\n",
      "3.png\n",
      "4.png\n",
      "5.png\n",
      "6.png\n",
      "7.png\n",
      "8.png\n",
      "<class 'list'>\n",
      "<class 'numpy.ndarray'>\n",
      "(9, 32, 32, 3)\n"
     ]
    }
   ],
   "source": [
    "### Run the predictions here and use the model to output the prediction for each image.\n",
    "### Make sure to pre-process the images with the same pre-processing pipeline used earlier.\n",
    "### Feel free to use as many code cells as needed.\n",
    "import cv2\n",
    "import os\n",
    "# test_image = cv2.imread('mytestSigns/Speed-limit.png')\n",
    "# type(test_image)\n",
    "# plt.imshow(test_image)\n",
    "\n",
    "imageList = []\n",
    "for filename in os.listdir('mytestSigns/'):\n",
    "    ext = filename.split('.')[1]\n",
    "    if(ext == 'jpg' or ext == 'png'):\n",
    "        print(filename)\n",
    "        image = cv2.imread('mytestSigns/' + filename)\n",
    "        image = cv2.cvtColor(image, cv2.COLOR_BGR2RGB)\n",
    "        imageList.append(image)\n",
    "        \n",
    "\n",
    "\n",
    "\n",
    "print(type(imageList))\n",
    "imageList = np.array(imageList)\n",
    "print(type(imageList))\n",
    "print(imageList.shape)\n"
   ]
  },
  {
   "cell_type": "markdown",
   "metadata": {},
   "source": [
    "### Analyze Performance"
   ]
  },
  {
   "cell_type": "code",
   "execution_count": 36,
   "metadata": {},
   "outputs": [
    {
     "name": "stdout",
     "output_type": "stream",
     "text": [
      "(9, 32, 32, 3)\n"
     ]
    }
   ],
   "source": [
    "print(imageList.shape)\n",
    "# imageList = (imageList/128 - 1)"
   ]
  },
  {
   "cell_type": "code",
   "execution_count": 38,
   "metadata": {},
   "outputs": [
    {
     "data": {
      "image/png": "[encoded data removed]",
      "text/plain": [
       "<matplotlib.figure.Figure at 0x11969d940>"
      ]
     },
     "metadata": {},
     "output_type": "display_data"
    },
    {
     "name": "stdout",
     "output_type": "stream",
     "text": [
      "Label index:  [12]\n",
      "TopKV2(values=array([[  1.00000000e+00,   1.34258706e-36,   0.00000000e+00,\n",
      "          0.00000000e+00,   0.00000000e+00]], dtype=float32), indices=array([[12, 40,  0,  1,  2]], dtype=int32))\n",
      "[[ 0.  0.  0.  0.  0.  0.  0.  0.  0.  0.  0.  0.  1.  0.  0.  0.  0.  0.\n",
      "   0.  0.  0.  0.  0.  0.  0.  0.  0.  0.  0.  0.  0.  0.  0.  0.  0.  0.\n",
      "   0.  0.  0.  0.  0.  0.  0.]]\n",
      ">>>>>>>>>>>>>>>>>>>>>>>>>>>>>>>>>>>>>>>>>>>>>>>>>>>>>>>>>>>>\n"
     ]
    },
    {
     "data": {
      "image/png": "[encoded data removed]",
      "text/plain": [
       "<matplotlib.figure.Figure at 0x12f6f3978>"
      ]
     },
     "metadata": {},
     "output_type": "display_data"
    },
    {
     "name": "stdout",
     "output_type": "stream",
     "text": [
      "Label index:  [33]\n",
      "TopKV2(values=array([[ 1.,  0.,  0.,  0.,  0.]], dtype=float32), indices=array([[33,  0,  1,  2,  3]], dtype=int32))\n",
      "[[ 0.  0.  0.  0.  0.  0.  0.  0.  0.  0.  0.  0.  0.  0.  0.  0.  0.  0.\n",
      "   0.  0.  0.  0.  0.  0.  0.  0.  0.  0.  0.  0.  0.  0.  0.  1.  0.  0.\n",
      "   0.  0.  0.  0.  0.  0.  0.]]\n",
      ">>>>>>>>>>>>>>>>>>>>>>>>>>>>>>>>>>>>>>>>>>>>>>>>>>>>>>>>>>>>\n"
     ]
    },
    {
     "data": {
      "image/png": "[encoded data removed]",
      "text/plain": [
       "<matplotlib.figure.Figure at 0x12f237cf8>"
      ]
     },
     "metadata": {},
     "output_type": "display_data"
    },
    {
     "name": "stdout",
     "output_type": "stream",
     "text": [
      "Label index:  [13]\n",
      "TopKV2(values=array([[ 1.,  0.,  0.,  0.,  0.]], dtype=float32), indices=array([[13,  0,  1,  2,  3]], dtype=int32))\n",
      "[[  0.00000000e+00   0.00000000e+00   0.00000000e+00   0.00000000e+00\n",
      "    0.00000000e+00   0.00000000e+00   0.00000000e+00   0.00000000e+00\n",
      "    0.00000000e+00   0.00000000e+00   0.00000000e+00   0.00000000e+00\n",
      "    0.00000000e+00   1.00000000e+00   0.00000000e+00   0.00000000e+00\n",
      "    0.00000000e+00   0.00000000e+00   0.00000000e+00   0.00000000e+00\n",
      "    0.00000000e+00   0.00000000e+00   0.00000000e+00   0.00000000e+00\n",
      "    0.00000000e+00   0.00000000e+00   0.00000000e+00   0.00000000e+00\n",
      "    0.00000000e+00   0.00000000e+00   0.00000000e+00   0.00000000e+00\n",
      "    0.00000000e+00   0.00000000e+00   0.00000000e+00   0.00000000e+00\n",
      "    0.00000000e+00   0.00000000e+00   8.93263564e-32   0.00000000e+00\n",
      "    0.00000000e+00   0.00000000e+00   0.00000000e+00]]\n",
      ">>>>>>>>>>>>>>>>>>>>>>>>>>>>>>>>>>>>>>>>>>>>>>>>>>>>>>>>>>>>\n"
     ]
    },
    {
     "data": {
      "image/png": "[encoded data removed]",
      "text/plain": [
       "<matplotlib.figure.Figure at 0x12ee945c0>"
      ]
     },
     "metadata": {},
     "output_type": "display_data"
    },
    {
     "name": "stdout",
     "output_type": "stream",
     "text": [
      "Label index:  [17]\n",
      "TopKV2(values=array([[ 1.,  0.,  0.,  0.,  0.]], dtype=float32), indices=array([[17,  0,  1,  2,  3]], dtype=int32))\n",
      "[[ 0.  0.  0.  0.  0.  0.  0.  0.  0.  0.  0.  0.  0.  0.  0.  0.  0.  1.\n",
      "   0.  0.  0.  0.  0.  0.  0.  0.  0.  0.  0.  0.  0.  0.  0.  0.  0.  0.\n",
      "   0.  0.  0.  0.  0.  0.  0.]]\n",
      ">>>>>>>>>>>>>>>>>>>>>>>>>>>>>>>>>>>>>>>>>>>>>>>>>>>>>>>>>>>>\n"
     ]
    },
    {
     "data": {
      "image/png": "[encoded data removed]",
      "text/plain": [
       "<matplotlib.figure.Figure at 0x123c96390>"
      ]
     },
     "metadata": {},
     "output_type": "display_data"
    },
    {
     "name": "stdout",
     "output_type": "stream",
     "text": [
      "Label index:  [4]\n",
      "TopKV2(values=array([[  1.00000000e+00,   2.58003883e-28,   0.00000000e+00,\n",
      "          0.00000000e+00,   0.00000000e+00]], dtype=float32), indices=array([[4, 1, 0, 2, 3]], dtype=int32))\n",
      "[[  0.00000000e+00   0.00000000e+00   0.00000000e+00   0.00000000e+00\n",
      "    1.00000000e+00   0.00000000e+00   0.00000000e+00   4.09534655e-37\n",
      "    0.00000000e+00   0.00000000e+00   0.00000000e+00   0.00000000e+00\n",
      "    0.00000000e+00   0.00000000e+00   0.00000000e+00   0.00000000e+00\n",
      "    0.00000000e+00   0.00000000e+00   0.00000000e+00   0.00000000e+00\n",
      "    0.00000000e+00   0.00000000e+00   0.00000000e+00   0.00000000e+00\n",
      "    0.00000000e+00   0.00000000e+00   0.00000000e+00   0.00000000e+00\n",
      "    0.00000000e+00   0.00000000e+00   0.00000000e+00   0.00000000e+00\n",
      "    0.00000000e+00   0.00000000e+00   0.00000000e+00   0.00000000e+00\n",
      "    0.00000000e+00   0.00000000e+00   0.00000000e+00   0.00000000e+00\n",
      "    0.00000000e+00   0.00000000e+00   0.00000000e+00]]\n",
      ">>>>>>>>>>>>>>>>>>>>>>>>>>>>>>>>>>>>>>>>>>>>>>>>>>>>>>>>>>>>\n"
     ]
    },
    {
     "data": {
      "image/png": "[encoded data removed]",
      "text/plain": [
       "<matplotlib.figure.Figure at 0x1235909b0>"
      ]
     },
     "metadata": {},
     "output_type": "display_data"
    },
    {
     "name": "stdout",
     "output_type": "stream",
     "text": [
      "Label index:  [1]\n",
      "TopKV2(values=array([[  1.00000000e+00,   2.09671301e-24,   9.59085058e-25,\n",
      "          6.47539384e-34,   1.24216922e-35]], dtype=float32), indices=array([[1, 0, 4, 2, 7]], dtype=int32))\n",
      "[[  5.27360860e-17   1.00000000e+00   1.59836245e-21   3.98558477e-35\n",
      "    6.99039483e-17   5.70569001e-35   0.00000000e+00   4.47875394e-28\n",
      "    8.05854078e-27   5.47944739e-37   2.30888571e-38   2.97055082e-33\n",
      "    0.00000000e+00   0.00000000e+00   0.00000000e+00   0.00000000e+00\n",
      "    0.00000000e+00   0.00000000e+00   0.00000000e+00   0.00000000e+00\n",
      "    0.00000000e+00   0.00000000e+00   0.00000000e+00   0.00000000e+00\n",
      "    0.00000000e+00   0.00000000e+00   0.00000000e+00   0.00000000e+00\n",
      "    0.00000000e+00   0.00000000e+00   0.00000000e+00   0.00000000e+00\n",
      "    0.00000000e+00   0.00000000e+00   0.00000000e+00   0.00000000e+00\n",
      "    0.00000000e+00   3.47541737e-33   0.00000000e+00   0.00000000e+00\n",
      "    1.79715263e-32   0.00000000e+00   0.00000000e+00]]\n",
      ">>>>>>>>>>>>>>>>>>>>>>>>>>>>>>>>>>>>>>>>>>>>>>>>>>>>>>>>>>>>\n"
     ]
    },
    {
     "data": {
      "image/png": "[encoded data removed]",
      "text/plain": [
       "<matplotlib.figure.Figure at 0x1230ed748>"
      ]
     },
     "metadata": {},
     "output_type": "display_data"
    },
    {
     "name": "stdout",
     "output_type": "stream",
     "text": [
      "Label index:  [28]\n",
      "TopKV2(values=array([[  1.00000000e+00,   6.92501854e-26,   1.36102545e-31,\n",
      "          2.38799749e-33,   2.05592785e-35]], dtype=float32), indices=array([[28, 30, 12, 13, 29]], dtype=int32))\n",
      "[[  0.00000000e+00   0.00000000e+00   0.00000000e+00   3.56809063e-36\n",
      "    1.03882047e-30   6.39530797e-29   0.00000000e+00   3.46063045e-31\n",
      "    0.00000000e+00   0.00000000e+00   0.00000000e+00   0.00000000e+00\n",
      "    0.00000000e+00   0.00000000e+00   0.00000000e+00   0.00000000e+00\n",
      "    0.00000000e+00   0.00000000e+00   0.00000000e+00   0.00000000e+00\n",
      "    0.00000000e+00   0.00000000e+00   3.19481699e-22   0.00000000e+00\n",
      "    3.70232884e-26   0.00000000e+00   8.17697227e-38   0.00000000e+00\n",
      "    1.00000000e+00   2.65128912e-19   1.68552004e-33   0.00000000e+00\n",
      "    0.00000000e+00   0.00000000e+00   0.00000000e+00   0.00000000e+00\n",
      "    0.00000000e+00   0.00000000e+00   0.00000000e+00   0.00000000e+00\n",
      "    0.00000000e+00   0.00000000e+00   0.00000000e+00]]\n",
      ">>>>>>>>>>>>>>>>>>>>>>>>>>>>>>>>>>>>>>>>>>>>>>>>>>>>>>>>>>>>\n"
     ]
    },
    {
     "data": {
      "image/png": "[encoded data removed]",
      "text/plain": [
       "<matplotlib.figure.Figure at 0x123503b70>"
      ]
     },
     "metadata": {},
     "output_type": "display_data"
    },
    {
     "name": "stdout",
     "output_type": "stream",
     "text": [
      "Label index:  [35]\n",
      "TopKV2(values=array([[  1.00000000e+00,   2.49398154e-28,   3.18566110e-32,\n",
      "          1.15338047e-36,   0.00000000e+00]], dtype=float32), indices=array([[35, 25, 36,  3,  0]], dtype=int32))\n",
      "[[ 0.  0.  0.  0.  0.  0.  0.  0.  0.  0.  0.  0.  0.  0.  0.  0.  0.  0.\n",
      "   0.  0.  0.  0.  0.  0.  0.  0.  0.  0.  0.  0.  0.  0.  0.  0.  0.  1.\n",
      "   0.  0.  0.  0.  0.  0.  0.]]\n",
      ">>>>>>>>>>>>>>>>>>>>>>>>>>>>>>>>>>>>>>>>>>>>>>>>>>>>>>>>>>>>\n"
     ]
    },
    {
     "data": {
      "image/png": "[encoded data removed]",
      "text/plain": [
       "<matplotlib.figure.Figure at 0x123308f28>"
      ]
     },
     "metadata": {},
     "output_type": "display_data"
    },
    {
     "name": "stdout",
     "output_type": "stream",
     "text": [
      "Label index:  [4]\n",
      "TopKV2(values=array([[  1.00000000e+00,   6.55607720e-18,   5.18640021e-19,\n",
      "          4.35764918e-20,   9.26279920e-21]], dtype=float32), indices=array([[16,  5,  3,  1,  7]], dtype=int32))\n",
      "[[  2.14779902e-06   3.73276343e-05   3.25760197e-06   5.10420534e-04\n",
      "    4.65890262e-05   1.25782153e-05   9.01437605e-11   4.50841850e-03\n",
      "    6.40838607e-07   3.27380940e-06   1.76547630e-08   5.23567908e-12\n",
      "    1.31127011e-08   5.92718374e-11   1.83429511e-13   6.84143231e-07\n",
      "    9.94370520e-01   1.55218533e-14   1.52263704e-06   6.89890172e-08\n",
      "    2.30239450e-09   3.01236985e-21   3.75005271e-08   4.16367201e-12\n",
      "    4.44776038e-09   2.16826720e-07   1.50122032e-05   1.96357264e-10\n",
      "    1.55240778e-04   5.07922607e-07   3.96238771e-11   8.89894339e-15\n",
      "    1.02110619e-06   3.55789093e-10   1.08227559e-11   3.93961237e-08\n",
      "    3.30329582e-04   1.11561741e-11   2.16107265e-09   4.64499578e-10\n",
      "    1.32460232e-09   8.62530936e-09   1.59765303e-17]]\n",
      ">>>>>>>>>>>>>>>>>>>>>>>>>>>>>>>>>>>>>>>>>>>>>>>>>>>>>>>>>>>>\n"
     ]
    }
   ],
   "source": [
    "\n",
    "label = tf.argmax(logits, 1)\n",
    "sf_prob = tf.nn.softmax(logits)\n",
    "topk = tf.nn.top_k(sf_prob, k=5)\n",
    "\n",
    "with tf.Session() as sess:\n",
    "    saver = tf.train.import_meta_graph('rajan_lenet.meta')\n",
    "    saver.restore(sess,tf.train.latest_checkpoint('./'))\n",
    "    for image in imageList:\n",
    "        image.squeeze()\n",
    "        cv2.startWindowThread()\n",
    "        cv2.imshow(\"preview\", image)\n",
    "#         cv2.waitKey()\n",
    "        plt.imshow(image.squeeze())\n",
    "        plt.show()\n",
    "        image = image.reshape((1, image.shape[0], image.shape[1], image.shape[2] ))\n",
    "        image = grayScale(image)\n",
    "        image= (image/128 - 1)\n",
    "\n",
    "        myLabel = sess.run(label, feed_dict={x: image})\n",
    "        test_prob  = sess.run(topk, feed_dict={x: image})\n",
    "        test_logits = sess.run(sf_prob, feed_dict={x: image})\n",
    "        print ('Label index: ',myLabel)\n",
    "        print (test_prob)\n",
    "        print (test_logits)\n",
    "        print('>>>>>>>>>>>>>>>>>>>>>>>>>>>>>>>>>>>>>>>>>>>>>>>>>>>>>>>>>>>>')"
   ]
  },
  {
   "cell_type": "code",
   "execution_count": null,
   "metadata": {
    "collapsed": true
   },
   "outputs": [],
   "source": [
    "### Calculate the accuracy for these 5 new images. \n",
    "### For example, if the model predicted 1 out of 5 signs correctly, it's 20% accurate on these new images."
   ]
  },
  {
   "cell_type": "markdown",
   "metadata": {},
   "source": [
    "### Output Top 5 Softmax Probabilities For Each Image Found on the Web"
   ]
  },
  {
   "cell_type": "markdown",
   "metadata": {},
   "source": [
    "For each of the new images, print out the model's softmax probabilities to show the **certainty** of the model's predictions (limit the output to the top 5 probabilities for each image). [`tf.nn.top_k`](https://www.tensorflow.org/versions/r0.12/api_docs/python/nn.html#top_k) could prove helpful here. \n",
    "\n",
    "The example below demonstrates how tf.nn.top_k can be used to find the top k predictions for each image.\n",
    "\n",
    "`tf.nn.top_k` will return the values and indices (class ids) of the top k predictions. So if k=3, for each sign, it'll return the 3 largest probabilities (out of a possible 43) and the correspoding class ids.\n",
    "\n",
    "Take this numpy array as an example. The values in the array represent predictions. The array contains softmax probabilities for five candidate images with six possible classes. `tf.nn.top_k` is used to choose the three classes with the highest probability:\n",
    "\n",
    "```\n",
    "# (5, 6) array\n",
    "a = np.array([[ 0.24879643,  0.07032244,  0.12641572,  0.34763842,  0.07893497,\n",
    "         0.12789202],\n",
    "       [ 0.28086119,  0.27569815,  0.08594638,  0.0178669 ,  0.18063401,\n",
    "         0.15899337],\n",
    "       [ 0.26076848,  0.23664738,  0.08020603,  0.07001922,  0.1134371 ,\n",
    "         0.23892179],\n",
    "       [ 0.11943333,  0.29198961,  0.02605103,  0.26234032,  0.1351348 ,\n",
    "         0.16505091],\n",
    "       [ 0.09561176,  0.34396535,  0.0643941 ,  0.16240774,  0.24206137,\n",
    "         0.09155967]])\n",
    "```\n",
    "\n",
    "Running it through `sess.run(tf.nn.top_k(tf.constant(a), k=3))` produces:\n",
    "\n",
    "```\n",
    "TopKV2(values=array([[ 0.34763842,  0.24879643,  0.12789202],\n",
    "       [ 0.28086119,  0.27569815,  0.18063401],\n",
    "       [ 0.26076848,  0.23892179,  0.23664738],\n",
    "       [ 0.29198961,  0.26234032,  0.16505091],\n",
    "       [ 0.34396535,  0.24206137,  0.16240774]]), indices=array([[3, 0, 5],\n",
    "       [0, 1, 4],\n",
    "       [0, 5, 1],\n",
    "       [1, 3, 5],\n",
    "       [1, 4, 3]], dtype=int32))\n",
    "```\n",
    "\n",
    "Looking just at the first row we get `[ 0.34763842,  0.24879643,  0.12789202]`, you can confirm these are the 3 largest probabilities in `a`. You'll also notice `[3, 0, 5]` are the corresponding indices."
   ]
  },
  {
   "cell_type": "code",
   "execution_count": null,
   "metadata": {
    "collapsed": true
   },
   "outputs": [],
   "source": [
    "### Print out the top five softmax probabilities for the predictions on the German traffic sign images found on the web. \n",
    "### Feel free to use as many code cells as needed."
   ]
  },
  {
   "cell_type": "markdown",
   "metadata": {},
   "source": [
    "### Project Writeup\n",
    "\n",
    "Once you have completed the code implementation, document your results in a project writeup using this [template](https://github.com/udacity/CarND-Traffic-Sign-Classifier-Project/blob/master/writeup_template.md) as a guide. The writeup can be in a markdown or pdf file. "
   ]
  },
  {
   "cell_type": "markdown",
   "metadata": {},
   "source": [
    "> **Note**: Once you have completed all of the code implementations and successfully answered each question above, you may finalize your work by exporting the iPython Notebook as an HTML document. You can do this by using the menu above and navigating to  \\n\",\n",
    "    \"**File -> Download as -> HTML (.html)**. Include the finished document along with this notebook as your submission."
   ]
  },
  {
   "cell_type": "markdown",
   "metadata": {},
   "source": [
    "---\n",
    "\n",
    "## Step 4 (Optional): Visualize the Neural Network's State with Test Images\n",
    "\n",
    " This Section is not required to complete but acts as an additional excersise for understaning the output of a neural network's weights. While neural networks can be a great learning device they are often referred to as a black box. We can understand what the weights of a neural network look like better by plotting their feature maps. After successfully training your neural network you can see what it's feature maps look like by plotting the output of the network's weight layers in response to a test stimuli image. From these plotted feature maps, it's possible to see what characteristics of an image the network finds interesting. For a sign, maybe the inner network feature maps react with high activation to the sign's boundary outline or to the contrast in the sign's painted symbol.\n",
    "\n",
    " Provided for you below is the function code that allows you to get the visualization output of any tensorflow weight layer you want. The inputs to the function should be a stimuli image, one used during training or a new one you provided, and then the tensorflow variable name that represents the layer's state during the training process, for instance if you wanted to see what the [LeNet lab's](https://classroom.udacity.com/nanodegrees/nd013/parts/fbf77062-5703-404e-b60c-95b78b2f3f9e/modules/6df7ae49-c61c-4bb2-a23e-6527e69209ec/lessons/601ae704-1035-4287-8b11-e2c2716217ad/concepts/d4aca031-508f-4e0b-b493-e7b706120f81) feature maps looked like for it's second convolutional layer you could enter conv2 as the tf_activation variable.\n",
    "\n",
    "For an example of what feature map outputs look like, check out NVIDIA's results in their paper [End-to-End Deep Learning for Self-Driving Cars](https://devblogs.nvidia.com/parallelforall/deep-learning-self-driving-cars/) in the section Visualization of internal CNN State. NVIDIA was able to show that their network's inner weights had high activations to road boundary lines by comparing feature maps from an image with a clear path to one without. Try experimenting with a similar test to show that your trained network's weights are looking for interesting features, whether it's looking at differences in feature maps from images with or without a sign, or even what feature maps look like in a trained network vs a completely untrained one on the same sign image.\n",
    "\n",
    "<figure>\n",
    " <img src=\"visualize_cnn.png\" width=\"380\" alt=\"Combined Image\" />\n",
    " <figcaption>\n",
    " <p></p> \n",
    " <p style=\"text-align: center;\"> Your output should look something like this (above)</p> \n",
    " </figcaption>\n",
    "</figure>\n",
    " <p></p> \n"
   ]
  },
  {
   "cell_type": "code",
   "execution_count": null,
   "metadata": {
    "collapsed": true
   },
   "outputs": [],
   "source": [
    "### Visualize your network's feature maps here.\n",
    "### Feel free to use as many code cells as needed.\n",
    "\n",
    "# image_input: the test image being fed into the network to produce the feature maps\n",
    "# tf_activation: should be a tf variable name used during your training procedure that represents the calculated state of a specific weight layer\n",
    "# activation_min/max: can be used to view the activation contrast in more detail, by default matplot sets min and max to the actual min and max values of the output\n",
    "# plt_num: used to plot out multiple different weight feature map sets on the same block, just extend the plt number for each new feature map entry\n",
    "\n",
    "def outputFeatureMap(image_input, tf_activation, activation_min=-1, activation_max=-1 ,plt_num=1):\n",
    "    # Here make sure to preprocess your image_input in a way your network expects\n",
    "    # with size, normalization, ect if needed\n",
    "    # image_input =\n",
    "    # Note: x should be the same name as your network's tensorflow data placeholder variable\n",
    "    # If you get an error tf_activation is not defined it may be having trouble accessing the variable from inside a function\n",
    "    activation = tf_activation.eval(session=sess,feed_dict={x : image_input})\n",
    "    featuremaps = activation.shape[3]\n",
    "    plt.figure(plt_num, figsize=(15,15))\n",
    "    for featuremap in range(featuremaps):\n",
    "        plt.subplot(6,8, featuremap+1) # sets the number of feature maps to show on each row and column\n",
    "        plt.title('FeatureMap ' + str(featuremap)) # displays the feature map number\n",
    "        if activation_min != -1 & activation_max != -1:\n",
    "            plt.imshow(activation[0,:,:, featuremap], interpolation=\"nearest\", vmin =activation_min, vmax=activation_max, cmap=\"gray\")\n",
    "        elif activation_max != -1:\n",
    "            plt.imshow(activation[0,:,:, featuremap], interpolation=\"nearest\", vmax=activation_max, cmap=\"gray\")\n",
    "        elif activation_min !=-1:\n",
    "            plt.imshow(activation[0,:,:, featuremap], interpolation=\"nearest\", vmin=activation_min, cmap=\"gray\")\n",
    "        else:\n",
    "            plt.imshow(activation[0,:,:, featuremap], interpolation=\"nearest\", cmap=\"gray\")"
   ]
  },
  {
   "cell_type": "code",
   "execution_count": null,
   "metadata": {
    "collapsed": true
   },
   "outputs": [],
   "source": [
    "\n",
    "with tf.Session() as sess:\n",
    "    saver = tf.train.import_meta_graph('rajan_lenet.meta')\n",
    "    saver.restore(sess,tf.train.latest_checkpoint('./'))\n",
    "    outputFeatureMap(imageList[0], layer1_output)\n",
    "    "
   ]
  },
  {
   "cell_type": "code",
   "execution_count": null,
   "metadata": {
    "collapsed": true
   },
   "outputs": [],
   "source": []
  }
 ],
 "metadata": {
  "anaconda-cloud": {},
  "kernelspec": {
   "display_name": "Python 3",
   "language": "python",
   "name": "python3"
  },
  "language_info": {
   "codemirror_mode": {
    "name": "ipython",
    "version": 3
   },
   "file_extension": ".py",
   "mimetype": "text/x-python",
   "name": "python",
   "nbconvert_exporter": "python",
   "pygments_lexer": "ipython3",
   "version": "3.5.2"
  },
  "widgets": {
   "state": {},
   "version": "1.1.2"
  }
 },
 "nbformat": 4,
 "nbformat_minor": 1
}
